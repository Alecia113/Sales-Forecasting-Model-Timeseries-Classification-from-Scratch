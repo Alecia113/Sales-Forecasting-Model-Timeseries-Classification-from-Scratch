{
  "nbformat": 4,
  "nbformat_minor": 0,
  "metadata": {
    "accelerator": "GPU",
    "colab": {
      "name": "5.1_1_Walmart Recruiting Sales Forecasting.ipynb",
      "provenance": [],
      "collapsed_sections": []
    },
    "kernelspec": {
      "display_name": "Python 3",
      "name": "python3"
    },
    "language_info": {
      "name": "python"
    }
  },
  "cells": [
    {
      "cell_type": "markdown",
      "metadata": {
        "id": "MWX3gdi6VzVB"
      },
      "source": [
        "# Source of Data Sets"
      ]
    },
    {
      "cell_type": "markdown",
      "metadata": {
        "id": "jHtznCD4DqG4"
      },
      "source": [
        "#### https://www.kaggle.com/c/walmart-recruiting-store-sales-forecasting/data?select=features.csv.zip"
      ]
    },
    {
      "cell_type": "markdown",
      "metadata": {
        "id": "gsa4DaJ2V6by"
      },
      "source": [
        "# Guide Packages"
      ]
    },
    {
      "cell_type": "code",
      "metadata": {
        "colab": {
          "base_uri": "https://localhost:8080/",
          "height": 1000
        },
        "id": "gDnqw7OLE3tf",
        "outputId": "f081155b-786c-47a1-dd30-aac0104bb2ab"
      },
      "source": [
        "!pip install numpy pandas matplotlib seaborn --quiet\n",
        "import os\n",
        "import math\n",
        "import time\n",
        "import warnings\n",
        "warnings.filterwarnings('ignore')\n",
        "import numpy as np\n",
        "import pandas as pd\n",
        "import seaborn as sns\n",
        "import plotly.express as px\n",
        "import plotly.graph_objs as go\n",
        "import matplotlib.pyplot as plt\n",
        "%matplotlib inline\n",
        "plt.style.use('seaborn-whitegrid')\n",
        "\n",
        "from sklearn import metrics\n",
        "from datetime import datetime\n",
        "from google.colab import drive\n",
        "from sklearn.metrics import mean_squared_error, mean_absolute_error, r2_score\n",
        "\n",
        "!pip install pingouin\n",
        "import pingouin as pg\n",
        "\n",
        "#Models\n",
        "from sklearn.ensemble import RandomForestRegressor\n",
        "from sklearn.model_selection import train_test_split\n",
        "from sklearn.metrics import accuracy_score, f1_score,precision_score, recall_score\n",
        "from sklearn.metrics import roc_curve, confusion_matrix, roc_auc_score, precision_recall_curve"
      ],
      "execution_count": null,
      "outputs": [
        {
          "output_type": "stream",
          "name": "stdout",
          "text": [
            "Collecting pingouin\n",
            "  Downloading pingouin-0.5.0.tar.gz (182 kB)\n",
            "\u001b[?25l\r\u001b[K     |█▉                              | 10 kB 24.6 MB/s eta 0:00:01\r\u001b[K     |███▋                            | 20 kB 9.0 MB/s eta 0:00:01\r\u001b[K     |█████▍                          | 30 kB 5.7 MB/s eta 0:00:01\r\u001b[K     |███████▏                        | 40 kB 5.3 MB/s eta 0:00:01\r\u001b[K     |█████████                       | 51 kB 2.6 MB/s eta 0:00:01\r\u001b[K     |██████████▊                     | 61 kB 2.9 MB/s eta 0:00:01\r\u001b[K     |████████████▌                   | 71 kB 2.9 MB/s eta 0:00:01\r\u001b[K     |██████████████▍                 | 81 kB 3.2 MB/s eta 0:00:01\r\u001b[K     |████████████████▏               | 92 kB 3.5 MB/s eta 0:00:01\r\u001b[K     |██████████████████              | 102 kB 2.6 MB/s eta 0:00:01\r\u001b[K     |███████████████████▊            | 112 kB 2.6 MB/s eta 0:00:01\r\u001b[K     |█████████████████████▌          | 122 kB 2.6 MB/s eta 0:00:01\r\u001b[K     |███████████████████████▎        | 133 kB 2.6 MB/s eta 0:00:01\r\u001b[K     |█████████████████████████       | 143 kB 2.6 MB/s eta 0:00:01\r\u001b[K     |██████████████████████████▉     | 153 kB 2.6 MB/s eta 0:00:01\r\u001b[K     |████████████████████████████▊   | 163 kB 2.6 MB/s eta 0:00:01\r\u001b[K     |██████████████████████████████▌ | 174 kB 2.6 MB/s eta 0:00:01\r\u001b[K     |████████████████████████████████| 182 kB 2.6 MB/s \n",
            "\u001b[?25hRequirement already satisfied: numpy>=1.19 in /usr/local/lib/python3.7/dist-packages (from pingouin) (1.19.5)\n",
            "Collecting scipy>=1.7\n",
            "  Downloading scipy-1.7.1-cp37-cp37m-manylinux_2_5_x86_64.manylinux1_x86_64.whl (28.5 MB)\n",
            "\u001b[K     |████████████████████████████████| 28.5 MB 48 kB/s \n",
            "\u001b[?25hRequirement already satisfied: pandas>=1.0 in /usr/local/lib/python3.7/dist-packages (from pingouin) (1.1.5)\n",
            "Requirement already satisfied: matplotlib>=3.0.2 in /usr/local/lib/python3.7/dist-packages (from pingouin) (3.2.2)\n",
            "Requirement already satisfied: seaborn>=0.9.0 in /usr/local/lib/python3.7/dist-packages (from pingouin) (0.11.2)\n",
            "Collecting statsmodels>=0.12.0\n",
            "  Downloading statsmodels-0.13.0-cp37-cp37m-manylinux_2_17_x86_64.manylinux2014_x86_64.whl (9.8 MB)\n",
            "\u001b[K     |████████████████████████████████| 9.8 MB 23.7 MB/s \n",
            "\u001b[?25hRequirement already satisfied: scikit-learn in /usr/local/lib/python3.7/dist-packages (from pingouin) (0.22.2.post1)\n",
            "Collecting pandas_flavor>=0.2.0\n",
            "  Downloading pandas_flavor-0.2.0-py2.py3-none-any.whl (6.6 kB)\n",
            "Collecting outdated\n",
            "  Downloading outdated-0.2.1-py3-none-any.whl (7.5 kB)\n",
            "Requirement already satisfied: tabulate in /usr/local/lib/python3.7/dist-packages (from pingouin) (0.8.9)\n",
            "Requirement already satisfied: python-dateutil>=2.1 in /usr/local/lib/python3.7/dist-packages (from matplotlib>=3.0.2->pingouin) (2.8.2)\n",
            "Requirement already satisfied: cycler>=0.10 in /usr/local/lib/python3.7/dist-packages (from matplotlib>=3.0.2->pingouin) (0.10.0)\n",
            "Requirement already satisfied: pyparsing!=2.0.4,!=2.1.2,!=2.1.6,>=2.0.1 in /usr/local/lib/python3.7/dist-packages (from matplotlib>=3.0.2->pingouin) (2.4.7)\n",
            "Requirement already satisfied: kiwisolver>=1.0.1 in /usr/local/lib/python3.7/dist-packages (from matplotlib>=3.0.2->pingouin) (1.3.2)\n",
            "Requirement already satisfied: six in /usr/local/lib/python3.7/dist-packages (from cycler>=0.10->matplotlib>=3.0.2->pingouin) (1.15.0)\n",
            "Requirement already satisfied: pytz>=2017.2 in /usr/local/lib/python3.7/dist-packages (from pandas>=1.0->pingouin) (2018.9)\n",
            "Requirement already satisfied: xarray in /usr/local/lib/python3.7/dist-packages (from pandas_flavor>=0.2.0->pingouin) (0.18.2)\n",
            "Requirement already satisfied: patsy>=0.5.2 in /usr/local/lib/python3.7/dist-packages (from statsmodels>=0.12.0->pingouin) (0.5.2)\n",
            "Requirement already satisfied: requests in /usr/local/lib/python3.7/dist-packages (from outdated->pingouin) (2.23.0)\n",
            "Collecting littleutils\n",
            "  Downloading littleutils-0.2.2.tar.gz (6.6 kB)\n",
            "Requirement already satisfied: urllib3!=1.25.0,!=1.25.1,<1.26,>=1.21.1 in /usr/local/lib/python3.7/dist-packages (from requests->outdated->pingouin) (1.24.3)\n",
            "Requirement already satisfied: certifi>=2017.4.17 in /usr/local/lib/python3.7/dist-packages (from requests->outdated->pingouin) (2021.5.30)\n",
            "Requirement already satisfied: chardet<4,>=3.0.2 in /usr/local/lib/python3.7/dist-packages (from requests->outdated->pingouin) (3.0.4)\n",
            "Requirement already satisfied: idna<3,>=2.5 in /usr/local/lib/python3.7/dist-packages (from requests->outdated->pingouin) (2.10)\n",
            "Requirement already satisfied: joblib>=0.11 in /usr/local/lib/python3.7/dist-packages (from scikit-learn->pingouin) (1.0.1)\n",
            "Requirement already satisfied: setuptools>=40.4 in /usr/local/lib/python3.7/dist-packages (from xarray->pandas_flavor>=0.2.0->pingouin) (57.4.0)\n",
            "Building wheels for collected packages: pingouin, littleutils\n",
            "  Building wheel for pingouin (setup.py) ... \u001b[?25l\u001b[?25hdone\n",
            "  Created wheel for pingouin: filename=pingouin-0.5.0-py3-none-any.whl size=193661 sha256=31c150f0a80803f1a454bcb1f3a3623f08e9d21e5631097037671b10f180ff0e\n",
            "  Stored in directory: /root/.cache/pip/wheels/14/46/f9/cedd81d68d2515c24bbbd000d5b347e4fe092ccc4b568f7f70\n",
            "  Building wheel for littleutils (setup.py) ... \u001b[?25l\u001b[?25hdone\n",
            "  Created wheel for littleutils: filename=littleutils-0.2.2-py3-none-any.whl size=7048 sha256=95ccbdacc626c86d7c60e41f5d186a1d7e0a9c61fe7d6653ffc138e1bf3def05\n",
            "  Stored in directory: /root/.cache/pip/wheels/d6/64/cd/32819b511a488e4993f2fab909a95330289c3f4e0f6ef4676d\n",
            "Successfully built pingouin littleutils\n",
            "Installing collected packages: scipy, littleutils, statsmodels, pandas-flavor, outdated, pingouin\n",
            "  Attempting uninstall: scipy\n",
            "    Found existing installation: scipy 1.4.1\n",
            "    Uninstalling scipy-1.4.1:\n",
            "      Successfully uninstalled scipy-1.4.1\n",
            "  Attempting uninstall: statsmodels\n",
            "    Found existing installation: statsmodels 0.10.2\n",
            "    Uninstalling statsmodels-0.10.2:\n",
            "      Successfully uninstalled statsmodels-0.10.2\n",
            "\u001b[31mERROR: pip's dependency resolver does not currently take into account all the packages that are installed. This behaviour is the source of the following dependency conflicts.\n",
            "albumentations 0.1.12 requires imgaug<0.2.7,>=0.2.5, but you have imgaug 0.2.9 which is incompatible.\u001b[0m\n",
            "Successfully installed littleutils-0.2.2 outdated-0.2.1 pandas-flavor-0.2.0 pingouin-0.5.0 scipy-1.7.1 statsmodels-0.13.0\n"
          ]
        },
        {
          "output_type": "display_data",
          "data": {
            "application/vnd.colab-display-data+json": {
              "pip_warning": {
                "packages": [
                  "scipy",
                  "statsmodels"
                ]
              }
            }
          },
          "metadata": {}
        }
      ]
    },
    {
      "cell_type": "markdown",
      "metadata": {
        "id": "KWzq-wblJRpy"
      },
      "source": [
        "# Input Dataset\n"
      ]
    },
    {
      "cell_type": "code",
      "metadata": {
        "colab": {
          "base_uri": "https://localhost:8080/"
        },
        "id": "N8fEFDPwE8VQ",
        "outputId": "58b86aa0-8c54-47e7-c62c-ebe22c7b8c94"
      },
      "source": [
        "drive.mount('/content/drive')\n",
        "os.chdir(\"/content/drive/MyDrive/task-in/Task5/Task5-3\")"
      ],
      "execution_count": null,
      "outputs": [
        {
          "output_type": "stream",
          "name": "stdout",
          "text": [
            "Mounted at /content/drive\n"
          ]
        }
      ]
    },
    {
      "cell_type": "code",
      "metadata": {
        "id": "xZWh0R91E8YI"
      },
      "source": [
        "features = pd.read_csv('/content/drive/MyDrive/task-in/Task5/Task5-3/features.csv')\n",
        "stores = pd.read_csv('/content/drive/MyDrive/task-in/Task5/Task5-3/stores.csv')\n",
        "train = pd.read_csv('/content/drive/MyDrive/task-in/Task5/Task5-3/train.csv')\n",
        "test = pd.read_csv('/content/drive/MyDrive/task-in/Task5/Task5-3/test.csv')\n",
        "sampleSubmission = pd.read_csv('/content/drive/MyDrive/task-in/Task5/Task5-3/sampleSubmission.csv')"
      ],
      "execution_count": null,
      "outputs": []
    },
    {
      "cell_type": "code",
      "metadata": {
        "colab": {
          "base_uri": "https://localhost:8080/"
        },
        "id": "A6KGK02EE8a_",
        "outputId": "944f2ec3-cc26-467f-8d69-f1c2e023d0b5"
      },
      "source": [
        "print(features.info())\n",
        "print('\\n')\n",
        "print(stores.info())\n",
        "print('\\n')\n",
        "print(train.info())\n",
        "print('\\n')\n",
        "print(test.info())\n",
        "print('\\n')\n",
        "print(sampleSubmission.info())"
      ],
      "execution_count": null,
      "outputs": [
        {
          "output_type": "stream",
          "name": "stdout",
          "text": [
            "<class 'pandas.core.frame.DataFrame'>\n",
            "RangeIndex: 8190 entries, 0 to 8189\n",
            "Data columns (total 12 columns):\n",
            " #   Column        Non-Null Count  Dtype  \n",
            "---  ------        --------------  -----  \n",
            " 0   Store         8190 non-null   int64  \n",
            " 1   Date          8190 non-null   object \n",
            " 2   Temperature   8190 non-null   float64\n",
            " 3   Fuel_Price    8190 non-null   float64\n",
            " 4   MarkDown1     4032 non-null   float64\n",
            " 5   MarkDown2     2921 non-null   float64\n",
            " 6   MarkDown3     3613 non-null   float64\n",
            " 7   MarkDown4     3464 non-null   float64\n",
            " 8   MarkDown5     4050 non-null   float64\n",
            " 9   CPI           7605 non-null   float64\n",
            " 10  Unemployment  7605 non-null   float64\n",
            " 11  IsHoliday     8190 non-null   bool   \n",
            "dtypes: bool(1), float64(9), int64(1), object(1)\n",
            "memory usage: 712.0+ KB\n",
            "None\n",
            "\n",
            "\n",
            "<class 'pandas.core.frame.DataFrame'>\n",
            "RangeIndex: 45 entries, 0 to 44\n",
            "Data columns (total 3 columns):\n",
            " #   Column  Non-Null Count  Dtype \n",
            "---  ------  --------------  ----- \n",
            " 0   Store   45 non-null     int64 \n",
            " 1   Type    45 non-null     object\n",
            " 2   Size    45 non-null     int64 \n",
            "dtypes: int64(2), object(1)\n",
            "memory usage: 1.2+ KB\n",
            "None\n",
            "\n",
            "\n",
            "<class 'pandas.core.frame.DataFrame'>\n",
            "RangeIndex: 421570 entries, 0 to 421569\n",
            "Data columns (total 5 columns):\n",
            " #   Column        Non-Null Count   Dtype  \n",
            "---  ------        --------------   -----  \n",
            " 0   Store         421570 non-null  int64  \n",
            " 1   Dept          421570 non-null  int64  \n",
            " 2   Date          421570 non-null  object \n",
            " 3   Weekly_Sales  421570 non-null  float64\n",
            " 4   IsHoliday     421570 non-null  bool   \n",
            "dtypes: bool(1), float64(1), int64(2), object(1)\n",
            "memory usage: 13.3+ MB\n",
            "None\n",
            "\n",
            "\n",
            "<class 'pandas.core.frame.DataFrame'>\n",
            "RangeIndex: 115064 entries, 0 to 115063\n",
            "Data columns (total 4 columns):\n",
            " #   Column     Non-Null Count   Dtype \n",
            "---  ------     --------------   ----- \n",
            " 0   Store      115064 non-null  int64 \n",
            " 1   Dept       115064 non-null  int64 \n",
            " 2   Date       115064 non-null  object\n",
            " 3   IsHoliday  115064 non-null  bool  \n",
            "dtypes: bool(1), int64(2), object(1)\n",
            "memory usage: 2.7+ MB\n",
            "None\n",
            "\n",
            "\n",
            "<class 'pandas.core.frame.DataFrame'>\n",
            "RangeIndex: 115064 entries, 0 to 115063\n",
            "Data columns (total 2 columns):\n",
            " #   Column        Non-Null Count   Dtype \n",
            "---  ------        --------------   ----- \n",
            " 0   Id            115064 non-null  object\n",
            " 1   Weekly_Sales  115064 non-null  int64 \n",
            "dtypes: int64(1), object(1)\n",
            "memory usage: 1.8+ MB\n",
            "None\n"
          ]
        }
      ]
    },
    {
      "cell_type": "code",
      "metadata": {
        "colab": {
          "base_uri": "https://localhost:8080/",
          "height": 142
        },
        "id": "olcTNqaXSzac",
        "outputId": "20d0ae9e-e984-423a-c3bd-a6d2e1e793de"
      },
      "source": [
        "features.head(3)"
      ],
      "execution_count": null,
      "outputs": [
        {
          "output_type": "execute_result",
          "data": {
            "text/html": [
              "<div>\n",
              "<style scoped>\n",
              "    .dataframe tbody tr th:only-of-type {\n",
              "        vertical-align: middle;\n",
              "    }\n",
              "\n",
              "    .dataframe tbody tr th {\n",
              "        vertical-align: top;\n",
              "    }\n",
              "\n",
              "    .dataframe thead th {\n",
              "        text-align: right;\n",
              "    }\n",
              "</style>\n",
              "<table border=\"1\" class=\"dataframe\">\n",
              "  <thead>\n",
              "    <tr style=\"text-align: right;\">\n",
              "      <th></th>\n",
              "      <th>Store</th>\n",
              "      <th>Date</th>\n",
              "      <th>Temperature</th>\n",
              "      <th>Fuel_Price</th>\n",
              "      <th>MarkDown1</th>\n",
              "      <th>MarkDown2</th>\n",
              "      <th>MarkDown3</th>\n",
              "      <th>MarkDown4</th>\n",
              "      <th>MarkDown5</th>\n",
              "      <th>CPI</th>\n",
              "      <th>Unemployment</th>\n",
              "      <th>IsHoliday</th>\n",
              "    </tr>\n",
              "  </thead>\n",
              "  <tbody>\n",
              "    <tr>\n",
              "      <th>0</th>\n",
              "      <td>1</td>\n",
              "      <td>2010-02-05</td>\n",
              "      <td>42.31</td>\n",
              "      <td>2.572</td>\n",
              "      <td>NaN</td>\n",
              "      <td>NaN</td>\n",
              "      <td>NaN</td>\n",
              "      <td>NaN</td>\n",
              "      <td>NaN</td>\n",
              "      <td>211.096358</td>\n",
              "      <td>8.106</td>\n",
              "      <td>False</td>\n",
              "    </tr>\n",
              "    <tr>\n",
              "      <th>1</th>\n",
              "      <td>1</td>\n",
              "      <td>2010-02-12</td>\n",
              "      <td>38.51</td>\n",
              "      <td>2.548</td>\n",
              "      <td>NaN</td>\n",
              "      <td>NaN</td>\n",
              "      <td>NaN</td>\n",
              "      <td>NaN</td>\n",
              "      <td>NaN</td>\n",
              "      <td>211.242170</td>\n",
              "      <td>8.106</td>\n",
              "      <td>True</td>\n",
              "    </tr>\n",
              "    <tr>\n",
              "      <th>2</th>\n",
              "      <td>1</td>\n",
              "      <td>2010-02-19</td>\n",
              "      <td>39.93</td>\n",
              "      <td>2.514</td>\n",
              "      <td>NaN</td>\n",
              "      <td>NaN</td>\n",
              "      <td>NaN</td>\n",
              "      <td>NaN</td>\n",
              "      <td>NaN</td>\n",
              "      <td>211.289143</td>\n",
              "      <td>8.106</td>\n",
              "      <td>False</td>\n",
              "    </tr>\n",
              "  </tbody>\n",
              "</table>\n",
              "</div>"
            ],
            "text/plain": [
              "   Store        Date  Temperature  ...         CPI  Unemployment  IsHoliday\n",
              "0      1  2010-02-05        42.31  ...  211.096358         8.106      False\n",
              "1      1  2010-02-12        38.51  ...  211.242170         8.106       True\n",
              "2      1  2010-02-19        39.93  ...  211.289143         8.106      False\n",
              "\n",
              "[3 rows x 12 columns]"
            ]
          },
          "metadata": {},
          "execution_count": 6
        }
      ]
    },
    {
      "cell_type": "code",
      "metadata": {
        "colab": {
          "base_uri": "https://localhost:8080/",
          "height": 142
        },
        "id": "WoH_AGgaE8dY",
        "outputId": "d3f27e64-bf05-4f43-f4b0-f582ba61335c"
      },
      "source": [
        "stores.head(3)"
      ],
      "execution_count": null,
      "outputs": [
        {
          "output_type": "execute_result",
          "data": {
            "text/html": [
              "<div>\n",
              "<style scoped>\n",
              "    .dataframe tbody tr th:only-of-type {\n",
              "        vertical-align: middle;\n",
              "    }\n",
              "\n",
              "    .dataframe tbody tr th {\n",
              "        vertical-align: top;\n",
              "    }\n",
              "\n",
              "    .dataframe thead th {\n",
              "        text-align: right;\n",
              "    }\n",
              "</style>\n",
              "<table border=\"1\" class=\"dataframe\">\n",
              "  <thead>\n",
              "    <tr style=\"text-align: right;\">\n",
              "      <th></th>\n",
              "      <th>Store</th>\n",
              "      <th>Type</th>\n",
              "      <th>Size</th>\n",
              "    </tr>\n",
              "  </thead>\n",
              "  <tbody>\n",
              "    <tr>\n",
              "      <th>0</th>\n",
              "      <td>1</td>\n",
              "      <td>A</td>\n",
              "      <td>151315</td>\n",
              "    </tr>\n",
              "    <tr>\n",
              "      <th>1</th>\n",
              "      <td>2</td>\n",
              "      <td>A</td>\n",
              "      <td>202307</td>\n",
              "    </tr>\n",
              "    <tr>\n",
              "      <th>2</th>\n",
              "      <td>3</td>\n",
              "      <td>B</td>\n",
              "      <td>37392</td>\n",
              "    </tr>\n",
              "  </tbody>\n",
              "</table>\n",
              "</div>"
            ],
            "text/plain": [
              "   Store Type    Size\n",
              "0      1    A  151315\n",
              "1      2    A  202307\n",
              "2      3    B   37392"
            ]
          },
          "metadata": {},
          "execution_count": 7
        }
      ]
    },
    {
      "cell_type": "code",
      "metadata": {
        "colab": {
          "base_uri": "https://localhost:8080/",
          "height": 142
        },
        "id": "uMILBlc6E8gP",
        "outputId": "b623a61f-308d-42eb-fa24-7a1bfd565f4d"
      },
      "source": [
        "train.head(3)"
      ],
      "execution_count": null,
      "outputs": [
        {
          "output_type": "execute_result",
          "data": {
            "text/html": [
              "<div>\n",
              "<style scoped>\n",
              "    .dataframe tbody tr th:only-of-type {\n",
              "        vertical-align: middle;\n",
              "    }\n",
              "\n",
              "    .dataframe tbody tr th {\n",
              "        vertical-align: top;\n",
              "    }\n",
              "\n",
              "    .dataframe thead th {\n",
              "        text-align: right;\n",
              "    }\n",
              "</style>\n",
              "<table border=\"1\" class=\"dataframe\">\n",
              "  <thead>\n",
              "    <tr style=\"text-align: right;\">\n",
              "      <th></th>\n",
              "      <th>Store</th>\n",
              "      <th>Dept</th>\n",
              "      <th>Date</th>\n",
              "      <th>Weekly_Sales</th>\n",
              "      <th>IsHoliday</th>\n",
              "    </tr>\n",
              "  </thead>\n",
              "  <tbody>\n",
              "    <tr>\n",
              "      <th>0</th>\n",
              "      <td>1</td>\n",
              "      <td>1</td>\n",
              "      <td>2010-02-05</td>\n",
              "      <td>24924.50</td>\n",
              "      <td>False</td>\n",
              "    </tr>\n",
              "    <tr>\n",
              "      <th>1</th>\n",
              "      <td>1</td>\n",
              "      <td>1</td>\n",
              "      <td>2010-02-12</td>\n",
              "      <td>46039.49</td>\n",
              "      <td>True</td>\n",
              "    </tr>\n",
              "    <tr>\n",
              "      <th>2</th>\n",
              "      <td>1</td>\n",
              "      <td>1</td>\n",
              "      <td>2010-02-19</td>\n",
              "      <td>41595.55</td>\n",
              "      <td>False</td>\n",
              "    </tr>\n",
              "  </tbody>\n",
              "</table>\n",
              "</div>"
            ],
            "text/plain": [
              "   Store  Dept        Date  Weekly_Sales  IsHoliday\n",
              "0      1     1  2010-02-05      24924.50      False\n",
              "1      1     1  2010-02-12      46039.49       True\n",
              "2      1     1  2010-02-19      41595.55      False"
            ]
          },
          "metadata": {},
          "execution_count": 8
        }
      ]
    },
    {
      "cell_type": "code",
      "metadata": {
        "colab": {
          "base_uri": "https://localhost:8080/",
          "height": 142
        },
        "id": "eP6lD13SE8jB",
        "outputId": "6e20fa1e-7ec4-4245-9ea3-ea0dcf8ade1a"
      },
      "source": [
        "test.head(3)"
      ],
      "execution_count": null,
      "outputs": [
        {
          "output_type": "execute_result",
          "data": {
            "text/html": [
              "<div>\n",
              "<style scoped>\n",
              "    .dataframe tbody tr th:only-of-type {\n",
              "        vertical-align: middle;\n",
              "    }\n",
              "\n",
              "    .dataframe tbody tr th {\n",
              "        vertical-align: top;\n",
              "    }\n",
              "\n",
              "    .dataframe thead th {\n",
              "        text-align: right;\n",
              "    }\n",
              "</style>\n",
              "<table border=\"1\" class=\"dataframe\">\n",
              "  <thead>\n",
              "    <tr style=\"text-align: right;\">\n",
              "      <th></th>\n",
              "      <th>Store</th>\n",
              "      <th>Dept</th>\n",
              "      <th>Date</th>\n",
              "      <th>IsHoliday</th>\n",
              "    </tr>\n",
              "  </thead>\n",
              "  <tbody>\n",
              "    <tr>\n",
              "      <th>0</th>\n",
              "      <td>1</td>\n",
              "      <td>1</td>\n",
              "      <td>2012-11-02</td>\n",
              "      <td>False</td>\n",
              "    </tr>\n",
              "    <tr>\n",
              "      <th>1</th>\n",
              "      <td>1</td>\n",
              "      <td>1</td>\n",
              "      <td>2012-11-09</td>\n",
              "      <td>False</td>\n",
              "    </tr>\n",
              "    <tr>\n",
              "      <th>2</th>\n",
              "      <td>1</td>\n",
              "      <td>1</td>\n",
              "      <td>2012-11-16</td>\n",
              "      <td>False</td>\n",
              "    </tr>\n",
              "  </tbody>\n",
              "</table>\n",
              "</div>"
            ],
            "text/plain": [
              "   Store  Dept        Date  IsHoliday\n",
              "0      1     1  2012-11-02      False\n",
              "1      1     1  2012-11-09      False\n",
              "2      1     1  2012-11-16      False"
            ]
          },
          "metadata": {},
          "execution_count": 9
        }
      ]
    },
    {
      "cell_type": "code",
      "metadata": {
        "colab": {
          "base_uri": "https://localhost:8080/",
          "height": 142
        },
        "id": "SFV4V71_E8lb",
        "outputId": "72b3740d-1a80-4084-fa02-0f8dfdcc2be1"
      },
      "source": [
        "sampleSubmission.head(3)"
      ],
      "execution_count": null,
      "outputs": [
        {
          "output_type": "execute_result",
          "data": {
            "text/html": [
              "<div>\n",
              "<style scoped>\n",
              "    .dataframe tbody tr th:only-of-type {\n",
              "        vertical-align: middle;\n",
              "    }\n",
              "\n",
              "    .dataframe tbody tr th {\n",
              "        vertical-align: top;\n",
              "    }\n",
              "\n",
              "    .dataframe thead th {\n",
              "        text-align: right;\n",
              "    }\n",
              "</style>\n",
              "<table border=\"1\" class=\"dataframe\">\n",
              "  <thead>\n",
              "    <tr style=\"text-align: right;\">\n",
              "      <th></th>\n",
              "      <th>Id</th>\n",
              "      <th>Weekly_Sales</th>\n",
              "    </tr>\n",
              "  </thead>\n",
              "  <tbody>\n",
              "    <tr>\n",
              "      <th>0</th>\n",
              "      <td>1_1_2012-11-02</td>\n",
              "      <td>0</td>\n",
              "    </tr>\n",
              "    <tr>\n",
              "      <th>1</th>\n",
              "      <td>1_1_2012-11-09</td>\n",
              "      <td>0</td>\n",
              "    </tr>\n",
              "    <tr>\n",
              "      <th>2</th>\n",
              "      <td>1_1_2012-11-16</td>\n",
              "      <td>0</td>\n",
              "    </tr>\n",
              "  </tbody>\n",
              "</table>\n",
              "</div>"
            ],
            "text/plain": [
              "               Id  Weekly_Sales\n",
              "0  1_1_2012-11-02             0\n",
              "1  1_1_2012-11-09             0\n",
              "2  1_1_2012-11-16             0"
            ]
          },
          "metadata": {},
          "execution_count": 10
        }
      ]
    },
    {
      "cell_type": "code",
      "metadata": {
        "id": "a8f3LawhE8oA"
      },
      "source": [
        "# print(features.isnull().sum())\n",
        "# print('\\n')\n",
        "# print(stores.isnull().sum())\n",
        "# print('\\n')\n",
        "# print(test.isnull().sum())\n",
        "# print('\\n')\n",
        "# print(sampleSubmission.isnull().sum())\n",
        "# print('\\n')\n",
        "# print(train.isnull().sum())"
      ],
      "execution_count": null,
      "outputs": []
    },
    {
      "cell_type": "code",
      "metadata": {
        "colab": {
          "base_uri": "https://localhost:8080/"
        },
        "id": "hr8uvNsqSaNb",
        "outputId": "95fb2b60-9786-4b4a-cb60-70da42dca36c"
      },
      "source": [
        "print(\"features.shape\", features.shape)\n",
        "print(\"stores.shape\", stores.shape)\n",
        "print(\"train.shape\", train.shape)\n",
        "print(\"test.shape\", test.shape)\n",
        "print(\"submission.shape\", sampleSubmission.shape)"
      ],
      "execution_count": null,
      "outputs": [
        {
          "output_type": "stream",
          "name": "stdout",
          "text": [
            "features.shape (8190, 12)\n",
            "stores.shape (45, 3)\n",
            "train.shape (421570, 5)\n",
            "test.shape (115064, 4)\n",
            "submission.shape (115064, 2)\n"
          ]
        }
      ]
    },
    {
      "cell_type": "markdown",
      "metadata": {
        "id": "yAdIRQQcE8qo"
      },
      "source": [
        "# Merging Data Sets\n"
      ]
    },
    {
      "cell_type": "code",
      "metadata": {
        "colab": {
          "base_uri": "https://localhost:8080/"
        },
        "id": "xRqEBDu3E8_B",
        "outputId": "238f17e5-75fe-4c48-e463-d3d0887e8eaf"
      },
      "source": [
        "feature_store = features.merge(stores, how='inner', on = \"Store\")\n",
        "print(\"The number of rows and columns is: \",(feature_store.shape))\n",
        "print(\"There are\",(len(feature_store.Store.unique())), 'single stores')\n",
        "\n",
        "train_df = train.merge(feature_store, how='inner', \n",
        "                       on = ['Store','Date','IsHoliday']).sort_values(by=['Store','Dept','Date']).reset_index(drop=True)\n",
        "print(\"The number of rows and columns is:\",(train_df.shape))\n",
        "\n",
        "\n",
        "test_df = test.merge(feature_store, how='inner', \n",
        "                     on = ['Store','Date','IsHoliday']).sort_values(by = ['Store','Dept','Date']).reset_index(drop=True)\n",
        "print(\"The number of rows and columns is: \",(test_df.shape))"
      ],
      "execution_count": null,
      "outputs": [
        {
          "output_type": "stream",
          "name": "stdout",
          "text": [
            "The number of rows and columns is:  (8190, 14)\n",
            "There are 45 single stores\n",
            "The number of rows and columns is: (421570, 16)\n",
            "The number of rows and columns is:  (115064, 15)\n"
          ]
        }
      ]
    },
    {
      "cell_type": "code",
      "metadata": {
        "id": "f5-TJZkLE9Bo"
      },
      "source": [
        "# feature_store.Store.unique()\n",
        "# feature_store.Store"
      ],
      "execution_count": null,
      "outputs": []
    },
    {
      "cell_type": "markdown",
      "metadata": {
        "id": "TAuBh32pE9Ef"
      },
      "source": [
        "# Convert \"Date\" Column to Datetime Format"
      ]
    },
    {
      "cell_type": "code",
      "metadata": {
        "id": "R3VfP9m9E9G3"
      },
      "source": [
        "# train_df['Date'] = pd.to_datetime(train_df['Date'])\n",
        "# train_df['Day'] = train_df['Date'].dt.day\n",
        "def split_date(df, date):\n",
        "  df['dt_ref'] = pd.to_datetime(df[date])\n",
        "  df['year'] = df.dt_ref.dt.year\n",
        "  df['month'] = df.dt_ref.dt.month\n",
        "  df['day'] = df.dt_ref.dt.day\n",
        "  df['week_of_year'] = df.dt_ref.dt.isocalendar().week\n",
        "  df['period_month'] = df.dt_ref.dt.to_period('M')   #?"
      ],
      "execution_count": null,
      "outputs": []
    },
    {
      "cell_type": "code",
      "metadata": {
        "colab": {
          "base_uri": "https://localhost:8080/",
          "height": 439
        },
        "id": "7NUuXOwxE9JR",
        "outputId": "a89b230d-17f4-4c26-ce26-60fe95ebbad6"
      },
      "source": [
        "# IsHoliday - whether the week is a special holiday week\n",
        "# Boxplt: distribution of observation data\n",
        "'''\n",
        "A boxplot contains six main data nodes, which arrange a set of data from largest to smallest.\n",
        "And calculate his upper edge (upper limit), upper quartile Q3, median, lower quartile Q1, lower edge(lower limit).\n",
        "And an outlier respectively.\n",
        "'''\n",
        "split_date(train_df, 'Date')\n",
        "\n",
        "print(train_df[['month','Weekly_Sales','IsHoliday']].head())\n",
        "\n",
        "plt.figure(figsize = (25,6))\n",
        "plt.title ('Weekly sales colume as a function of holidays')\n",
        "fig = sns.boxplot(x = 'month'\n",
        "                  ,y = 'Weekly_Sales'\n",
        "                  ,data = train_df[['month','Weekly_Sales','IsHoliday']]\n",
        "                  ,showfliers = False\n",
        "                  ,hue = 'IsHoliday')\n"
      ],
      "execution_count": null,
      "outputs": [
        {
          "output_type": "stream",
          "name": "stdout",
          "text": [
            "   month  Weekly_Sales  IsHoliday\n",
            "0      2      24924.50      False\n",
            "1      2      46039.49       True\n",
            "2      2      41595.55      False\n",
            "3      2      19403.54      False\n",
            "4      3      21827.90      False\n"
          ]
        },
        {
          "output_type": "display_data",
          "data": {
            "image/png": "[encoded data removed]",
            "text/plain": [
              "<Figure size 1800x432 with 1 Axes>"
            ]
          },
          "metadata": {}
        }
      ]
    },
    {
      "cell_type": "markdown",
      "metadata": {
        "id": "8OxcVG8Ca96U"
      },
      "source": [
        "### We can investigate the variation in sales between shops and the extent to which holidays affect sales in each shop"
      ]
    },
    {
      "cell_type": "code",
      "metadata": {
        "colab": {
          "base_uri": "https://localhost:8080/",
          "height": 336
        },
        "id": "Wn-U9jnra9b2",
        "outputId": "5d583fce-0c28-434a-9c32-8f922da6f040"
      },
      "source": [
        "plt.figure(figsize = (25,6))\n",
        "plt.title ('Changes in sales are related to the impact of shops and holidays')\n",
        "fig = sns.boxplot(x = 'Store'\n",
        "                  ,y = 'Weekly_Sales'\n",
        "                  ,data = train_df[['Store','Weekly_Sales','IsHoliday']]\n",
        "                  ,showfliers = False\n",
        "                  ,hue = 'IsHoliday')"
      ],
      "execution_count": null,
      "outputs": [
        {
          "output_type": "display_data",
          "data": {
            "image/png": "[encoded data removed]",
            "text/plain": [
              "<Figure size 1800x432 with 1 Axes>"
            ]
          },
          "metadata": {}
        }
      ]
    },
    {
      "cell_type": "markdown",
      "metadata": {
        "id": "ST36XUFFE9Lx"
      },
      "source": [
        "### Sales per week per year"
      ]
    },
    {
      "cell_type": "code",
      "metadata": {
        "colab": {
          "base_uri": "https://localhost:8080/",
          "height": 429
        },
        "id": "4lvbuQm1XdFx",
        "outputId": "a32c55ea-bdbe-493f-a727-df4e5e4fd128"
      },
      "source": [
        "weekly_sales_2010 = train_df[train_df.year==2010].groupby('week_of_year')['Weekly_Sales'].mean()\n",
        "weekly_sales_2011 = train_df[train_df.year==2011].groupby('week_of_year')['Weekly_Sales'].mean()\n",
        "weekly_sales_2012 = train_df[train_df.year==2012].groupby('week_of_year')['Weekly_Sales'].mean()\n",
        "\n",
        "plt.figure(figsize=(20,6))\n",
        "plt.plot(weekly_sales_2010.index, weekly_sales_2010.values)\n",
        "plt.plot(weekly_sales_2011.index, weekly_sales_2011.values)\n",
        "plt.plot(weekly_sales_2012.index, weekly_sales_2012.values)\n",
        "\n",
        "plt.xticks(np.arange(1, 53, step=1), fontsize=16)\n",
        "plt.yticks( fontsize=16)\n",
        "plt.xlabel('Week of Year', fontsize=16, labelpad=20)\n",
        "plt.ylabel('Sales', fontsize=20, labelpad=20)\n",
        "\n",
        "plt.title(\"Sales per week per year\", fontsize=16)\n",
        "plt.legend(['2010', '2011', '2012'], fontsize=14);"
      ],
      "execution_count": null,
      "outputs": [
        {
          "output_type": "display_data",
          "data": {
            "image/png": "[encoded data removed]",
            "text/plain": [
              "<Figure size 1440x432 with 1 Axes>"
            ]
          },
          "metadata": {}
        }
      ]
    },
    {
      "cell_type": "code",
      "metadata": {
        "colab": {
          "base_uri": "https://localhost:8080/"
        },
        "id": "mQ7ao0oucKjU",
        "outputId": "fe90fcb1-d821-4588-ac65-067c29adc919"
      },
      "source": [
        "# Missing values\n",
        "#train_df.isna().sum()\n",
        "print(train_df.isnull().sum())\n",
        "print('\\n')\n",
        "print(test_df.isnull().sum())"
      ],
      "execution_count": null,
      "outputs": [
        {
          "output_type": "stream",
          "name": "stdout",
          "text": [
            "Store                0\n",
            "Dept                 0\n",
            "Date                 0\n",
            "Weekly_Sales         0\n",
            "IsHoliday            0\n",
            "Temperature          0\n",
            "Fuel_Price           0\n",
            "MarkDown1       270889\n",
            "MarkDown2       310322\n",
            "MarkDown3       284479\n",
            "MarkDown4       286603\n",
            "MarkDown5       270138\n",
            "CPI                  0\n",
            "Unemployment         0\n",
            "Type                 0\n",
            "Size                 0\n",
            "dt_ref               0\n",
            "year                 0\n",
            "month                0\n",
            "day                  0\n",
            "week_of_year         0\n",
            "period_month         0\n",
            "dtype: int64\n",
            "\n",
            "\n",
            "Store               0\n",
            "Dept                0\n",
            "Date                0\n",
            "IsHoliday           0\n",
            "Temperature         0\n",
            "Fuel_Price          0\n",
            "MarkDown1         149\n",
            "MarkDown2       28627\n",
            "MarkDown3        9829\n",
            "MarkDown4       12888\n",
            "MarkDown5           0\n",
            "CPI             38162\n",
            "Unemployment    38162\n",
            "Type                0\n",
            "Size                0\n",
            "dtype: int64\n"
          ]
        }
      ]
    },
    {
      "cell_type": "code",
      "metadata": {
        "colab": {
          "base_uri": "https://localhost:8080/"
        },
        "id": "n3K37WgIcKzz",
        "outputId": "fa7a6e61-6eb2-4e36-bc6e-0f3be79a3672"
      },
      "source": [
        "# Missing values in 'train_df' and 'test_df' are filled in with '0' values\n",
        "# However, in 'test_df', CPI and Unemployment are filled in with averages\n",
        "# train_df,test_df\n",
        "train_df.fillna(0, inplace = True)\n",
        "\n",
        "test_df['CPI'].fillna(test_df['CPI'].mean(), inplace = True)\n",
        "test_df['Unemployment'].fillna(test_df['Unemployment'].mean(), inplace = True)\n",
        "test_df.fillna(0, inplace = True)\n",
        "\n",
        "print(train_df.isnull().sum())\n",
        "print('\\n')\n",
        "print(test_df.isnull().sum())"
      ],
      "execution_count": null,
      "outputs": [
        {
          "output_type": "stream",
          "name": "stdout",
          "text": [
            "Store           0\n",
            "Dept            0\n",
            "Date            0\n",
            "Weekly_Sales    0\n",
            "IsHoliday       0\n",
            "Temperature     0\n",
            "Fuel_Price      0\n",
            "MarkDown1       0\n",
            "MarkDown2       0\n",
            "MarkDown3       0\n",
            "MarkDown4       0\n",
            "MarkDown5       0\n",
            "CPI             0\n",
            "Unemployment    0\n",
            "Type            0\n",
            "Size            0\n",
            "dt_ref          0\n",
            "year            0\n",
            "month           0\n",
            "day             0\n",
            "week_of_year    0\n",
            "period_month    0\n",
            "dtype: int64\n",
            "\n",
            "\n",
            "Store           0\n",
            "Dept            0\n",
            "Date            0\n",
            "IsHoliday       0\n",
            "Temperature     0\n",
            "Fuel_Price      0\n",
            "MarkDown1       0\n",
            "MarkDown2       0\n",
            "MarkDown3       0\n",
            "MarkDown4       0\n",
            "MarkDown5       0\n",
            "CPI             0\n",
            "Unemployment    0\n",
            "Type            0\n",
            "Size            0\n",
            "dtype: int64\n"
          ]
        }
      ]
    },
    {
      "cell_type": "code",
      "metadata": {
        "id": "IXVvBOv2cLMD"
      },
      "source": [
        "# train_df['IsHoliday'] = [1 if i == True else 0, i for i in train_df['IsHoliday']]\n",
        "train_df['IsHoliday'] = train_df['IsHoliday'].apply(lambda x: 1 if x == True else 0)\n",
        "test_df['IsHoliday'] = test_df['IsHoliday'].apply(lambda x: 1 if x == True else 0)\n",
        "# print(train_df['IsHoliday'])\n",
        "train_df['Type'] = train_df['Type'].apply(lambda x: 1 if x == 'A' else (2 if x == 'B' else 3))\n",
        "test_df['Type'] = test_df['Type'].apply(lambda x: 1 if x == 'A' else (2 if x == 'B' else 3))\n",
        "# print(train_df['Type'])"
      ],
      "execution_count": null,
      "outputs": []
    },
    {
      "cell_type": "code",
      "metadata": {
        "colab": {
          "base_uri": "https://localhost:8080/"
        },
        "id": "LoJN3uylcLej",
        "outputId": "0189268c-aa45-4cfd-ead2-140a808c9293"
      },
      "source": [
        "# type(train_df['Date'])\n",
        "train_df.info()"
      ],
      "execution_count": null,
      "outputs": [
        {
          "output_type": "stream",
          "name": "stdout",
          "text": [
            "<class 'pandas.core.frame.DataFrame'>\n",
            "RangeIndex: 421570 entries, 0 to 421569\n",
            "Data columns (total 22 columns):\n",
            " #   Column        Non-Null Count   Dtype         \n",
            "---  ------        --------------   -----         \n",
            " 0   Store         421570 non-null  int64         \n",
            " 1   Dept          421570 non-null  int64         \n",
            " 2   Date          421570 non-null  object        \n",
            " 3   Weekly_Sales  421570 non-null  float64       \n",
            " 4   IsHoliday     421570 non-null  int64         \n",
            " 5   Temperature   421570 non-null  float64       \n",
            " 6   Fuel_Price    421570 non-null  float64       \n",
            " 7   MarkDown1     421570 non-null  float64       \n",
            " 8   MarkDown2     421570 non-null  float64       \n",
            " 9   MarkDown3     421570 non-null  float64       \n",
            " 10  MarkDown4     421570 non-null  float64       \n",
            " 11  MarkDown5     421570 non-null  float64       \n",
            " 12  CPI           421570 non-null  float64       \n",
            " 13  Unemployment  421570 non-null  float64       \n",
            " 14  Type          421570 non-null  int64         \n",
            " 15  Size          421570 non-null  int64         \n",
            " 16  dt_ref        421570 non-null  datetime64[ns]\n",
            " 17  year          421570 non-null  int64         \n",
            " 18  month         421570 non-null  int64         \n",
            " 19  day           421570 non-null  int64         \n",
            " 20  week_of_year  421570 non-null  UInt32        \n",
            " 21  period_month  421570 non-null  period[M]     \n",
            "dtypes: UInt32(1), datetime64[ns](1), float64(10), int64(8), object(1), period[M](1)\n",
            "memory usage: 69.6+ MB\n"
          ]
        }
      ]
    },
    {
      "cell_type": "markdown",
      "metadata": {
        "id": "kUBUEzHEiQSm"
      },
      "source": [
        "# Model"
      ]
    },
    {
      "cell_type": "code",
      "metadata": {
        "id": "vWNyh_LymQ25"
      },
      "source": [
        "# Dealing with data types\n",
        "train_df['dt_ref'] = train_df['dt_ref'].astype(int)\n",
        "train_df['period_month'] = train_df['period_month'].astype(int)  \n",
        "X_f = train_df.drop(['Date','Weekly_Sales'], axis = 'columns' )\n",
        "y_f = train_df['Weekly_Sales']"
      ],
      "execution_count": null,
      "outputs": []
    },
    {
      "cell_type": "code",
      "metadata": {
        "id": "vkQc_giTsCU8"
      },
      "source": [
        "X = train_df[[\n",
        "            'Store', 'Dept','Temperature', 'Fuel_Price',\n",
        "            'MarkDown1', 'MarkDown2', 'MarkDown3', 'MarkDown4', \n",
        "            'MarkDown5', 'CPI','Unemployment', 'Type', 'Size',\n",
        "            ]]\n",
        "\n",
        "y = train_df['Weekly_Sales']\n",
        "X_train, X_test, y_train, y_test = train_test_split(X, y, test_size=0.3)"
      ],
      "execution_count": null,
      "outputs": []
    },
    {
      "cell_type": "code",
      "metadata": {
        "colab": {
          "base_uri": "https://localhost:8080/"
        },
        "id": "fLFA49SHsekt",
        "outputId": "52a6dbb0-3aa8-47e4-c868-8ae4b085696a"
      },
      "source": [
        "rf = RandomForestRegressor(random_state=42)\n",
        "rf_model = rf.fit(X_train, y_train)\n",
        "\n",
        "preds_train_RFR = rf_model.predict(X_train)\n",
        "preds_test_RFR = rf_model.predict(X_test)\n",
        "\n",
        "print('Mean R2 for Train is : ', metrics.mean_squared_error(y_train, preds_train_RFR, squared = False))\n",
        "\n",
        "print('Mean R2 for Test is  : ', metrics.mean_squared_error(y_test, preds_test_RFR, squared = False))"
      ],
      "execution_count": null,
      "outputs": [
        {
          "output_type": "stream",
          "name": "stdout",
          "text": [
            "Mean R2 for Train is :  2077.193165109014\n",
            "Mean R2 for Test is  :  5112.254545123947\n"
          ]
        }
      ]
    },
    {
      "cell_type": "code",
      "metadata": {
        "id": "OW03E8O0ueyF",
        "colab": {
          "base_uri": "https://localhost:8080/"
        },
        "outputId": "ee0cd563-da85-4ead-d962-1e10a2b45cc0"
      },
      "source": [
        "train_score = rf.score(X_train,y_train)\n",
        "test_score = rf.score(X_test,y_test)\n",
        "print(train_score,test_score)"
      ],
      "execution_count": null,
      "outputs": [
        {
          "output_type": "stream",
          "name": "stdout",
          "text": [
            "0.9916488644691654 0.949130912168538\n"
          ]
        }
      ]
    },
    {
      "cell_type": "code",
      "metadata": {
        "id": "qRtGSpbqiQuV",
        "colab": {
          "base_uri": "https://localhost:8080/"
        },
        "outputId": "473c8aa2-ad3c-469d-ee02-7c73ddd9fab3"
      },
      "source": [
        "#%%time\n",
        "start_time = time.time()\n",
        "\n",
        "rf_features = RandomForestRegressor() \n",
        "rf_features.fit(X_f, y_f)\n",
        "\n",
        "print(\"--- %s seconds ---\" % (time.time() - start_time))"
      ],
      "execution_count": null,
      "outputs": [
        {
          "output_type": "stream",
          "name": "stdout",
          "text": [
            "--- 503.84725046157837 seconds ---\n"
          ]
        }
      ]
    },
    {
      "cell_type": "code",
      "metadata": {
        "id": "5DQ7coQ9lNZP",
        "colab": {
          "base_uri": "https://localhost:8080/"
        },
        "outputId": "2874c68a-47d7-4b21-cf67-bacb57c2368c"
      },
      "source": [
        "#%%time\n",
        "importance_df = pd.DataFrame({\n",
        "                            'feature': X_f.columns,\n",
        "                            'importance': rf_features.feature_importances_\n",
        "                             }).sort_values('importance', ascending=False)"
      ],
      "execution_count": null,
      "outputs": [
        {
          "output_type": "stream",
          "name": "stdout",
          "text": [
            "CPU times: user 891 ms, sys: 2.92 ms, total: 894 ms\n",
            "Wall time: 889 ms\n"
          ]
        }
      ]
    },
    {
      "cell_type": "code",
      "metadata": {
        "id": "tmDK6OtSiQ2H",
        "colab": {
          "base_uri": "https://localhost:8080/",
          "height": 400
        },
        "outputId": "fc749d8a-7323-4f4b-8727-5f06e7d23c44"
      },
      "source": [
        "plt.figure(figsize=(10,6))\n",
        "plt.title('Feature Importance')\n",
        "sns.barplot(data=importance_df.head(26), x='importance', y='feature');"
      ],
      "execution_count": null,
      "outputs": [
        {
          "output_type": "display_data",
          "data": {
            "image/png": "[encoded data removed]",
            "text/plain": [
              "<Figure size 720x432 with 1 Axes>"
            ]
          },
          "metadata": {}
        }
      ]
    }
  ]
}