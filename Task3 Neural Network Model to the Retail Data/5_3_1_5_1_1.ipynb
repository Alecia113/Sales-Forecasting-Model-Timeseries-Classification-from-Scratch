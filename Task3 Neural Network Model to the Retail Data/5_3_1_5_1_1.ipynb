{
  "nbformat": 4,
  "nbformat_minor": 0,
  "metadata": {
    "accelerator": "GPU",
    "colab": {
      "name": "5_3_1_5.1.1",
      "provenance": [],
      "collapsed_sections": []
    },
    "kernelspec": {
      "display_name": "Python 3",
      "name": "python3"
    },
    "language_info": {
      "name": "python"
    }
  },
  "cells": [
    {
      "cell_type": "markdown",
      "metadata": {
        "id": "MWX3gdi6VzVB"
      },
      "source": [
        "# Source of Data Sets"
      ]
    },
    {
      "cell_type": "markdown",
      "metadata": {
        "id": "jHtznCD4DqG4"
      },
      "source": [
        "#### https://www.kaggle.com/c/walmart-recruiting-store-sales-forecasting/data?select=features.csv.zip"
      ]
    },
    {
      "cell_type": "markdown",
      "metadata": {
        "id": "gsa4DaJ2V6by"
      },
      "source": [
        "# Guide Packages"
      ]
    },
    {
      "cell_type": "code",
      "metadata": {
        "colab": {
          "base_uri": "https://localhost:8080/",
          "height": 1000
        },
        "id": "gDnqw7OLE3tf",
        "outputId": "44b8a281-c245-4bf2-da5f-d002b65e9181"
      },
      "source": [
        "!pip install numpy pandas matplotlib seaborn --quiet\n",
        "import os\n",
        "import math\n",
        "import time\n",
        "import warnings\n",
        "warnings.filterwarnings('ignore')\n",
        "import numpy as np\n",
        "import pandas as pd\n",
        "import seaborn as sns\n",
        "import plotly.express as px\n",
        "import plotly.graph_objs as go\n",
        "import matplotlib.pyplot as plt\n",
        "%matplotlib inline\n",
        "plt.style.use('seaborn-whitegrid')\n",
        "\n",
        "\n",
        "from sklearn import metrics\n",
        "from tensorflow import keras\n",
        "from datetime import datetime\n",
        "from google.colab import drive\n",
        "from keras.models import Sequential\n",
        "from keras.layers import Dense, Dropout\n",
        "from sklearn.metrics import mean_squared_error\n",
        "from sklearn.preprocessing import MinMaxScaler\n",
        "from sklearn.preprocessing import LabelEncoder\n",
        "from sklearn.preprocessing import OneHotEncoder\n",
        "from sklearn.model_selection import train_test_split\n",
        "from sklearn.metrics import mean_squared_error, mean_absolute_error, r2_score\n",
        "\n",
        "!pip install pingouin\n",
        "import pingouin as pg\n",
        "\n",
        "#Models\n",
        "from sklearn.ensemble import RandomForestRegressor\n",
        "from sklearn.metrics import accuracy_score, f1_score,precision_score, recall_score\n",
        "from sklearn.metrics import roc_curve, confusion_matrix, roc_auc_score, precision_recall_curve"
      ],
      "execution_count": 1,
      "outputs": [
        {
          "output_type": "stream",
          "name": "stdout",
          "text": [
            "Collecting pingouin\n",
            "  Downloading pingouin-0.5.0.tar.gz (182 kB)\n",
            "\u001b[?25l\r\u001b[K     |█▉                              | 10 kB 23.4 MB/s eta 0:00:01\r\u001b[K     |███▋                            | 20 kB 22.6 MB/s eta 0:00:01\r\u001b[K     |█████▍                          | 30 kB 12.0 MB/s eta 0:00:01\r\u001b[K     |███████▏                        | 40 kB 9.5 MB/s eta 0:00:01\r\u001b[K     |█████████                       | 51 kB 5.3 MB/s eta 0:00:01\r\u001b[K     |██████████▊                     | 61 kB 5.8 MB/s eta 0:00:01\r\u001b[K     |████████████▌                   | 71 kB 5.7 MB/s eta 0:00:01\r\u001b[K     |██████████████▍                 | 81 kB 6.3 MB/s eta 0:00:01\r\u001b[K     |████████████████▏               | 92 kB 4.9 MB/s eta 0:00:01\r\u001b[K     |██████████████████              | 102 kB 5.3 MB/s eta 0:00:01\r\u001b[K     |███████████████████▊            | 112 kB 5.3 MB/s eta 0:00:01\r\u001b[K     |█████████████████████▌          | 122 kB 5.3 MB/s eta 0:00:01\r\u001b[K     |███████████████████████▎        | 133 kB 5.3 MB/s eta 0:00:01\r\u001b[K     |█████████████████████████       | 143 kB 5.3 MB/s eta 0:00:01\r\u001b[K     |██████████████████████████▉     | 153 kB 5.3 MB/s eta 0:00:01\r\u001b[K     |████████████████████████████▊   | 163 kB 5.3 MB/s eta 0:00:01\r\u001b[K     |██████████████████████████████▌ | 174 kB 5.3 MB/s eta 0:00:01\r\u001b[K     |████████████████████████████████| 182 kB 5.3 MB/s \n",
            "\u001b[?25hRequirement already satisfied: numpy>=1.19 in /usr/local/lib/python3.7/dist-packages (from pingouin) (1.19.5)\n",
            "Collecting scipy>=1.7\n",
            "  Downloading scipy-1.7.2-cp37-cp37m-manylinux_2_12_x86_64.manylinux2010_x86_64.whl (38.2 MB)\n",
            "\u001b[K     |████████████████████████████████| 38.2 MB 25 kB/s \n",
            "\u001b[?25hRequirement already satisfied: pandas>=1.0 in /usr/local/lib/python3.7/dist-packages (from pingouin) (1.1.5)\n",
            "Requirement already satisfied: matplotlib>=3.0.2 in /usr/local/lib/python3.7/dist-packages (from pingouin) (3.2.2)\n",
            "Requirement already satisfied: seaborn>=0.9.0 in /usr/local/lib/python3.7/dist-packages (from pingouin) (0.11.2)\n",
            "Collecting statsmodels>=0.12.0\n",
            "  Downloading statsmodels-0.13.0-cp37-cp37m-manylinux_2_17_x86_64.manylinux2014_x86_64.whl (9.8 MB)\n",
            "\u001b[K     |████████████████████████████████| 9.8 MB 41.4 MB/s \n",
            "\u001b[?25hRequirement already satisfied: scikit-learn in /usr/local/lib/python3.7/dist-packages (from pingouin) (0.22.2.post1)\n",
            "Collecting pandas_flavor>=0.2.0\n",
            "  Downloading pandas_flavor-0.2.0-py2.py3-none-any.whl (6.6 kB)\n",
            "Collecting outdated\n",
            "  Downloading outdated-0.2.1-py3-none-any.whl (7.5 kB)\n",
            "Requirement already satisfied: tabulate in /usr/local/lib/python3.7/dist-packages (from pingouin) (0.8.9)\n",
            "Requirement already satisfied: python-dateutil>=2.1 in /usr/local/lib/python3.7/dist-packages (from matplotlib>=3.0.2->pingouin) (2.8.2)\n",
            "Requirement already satisfied: cycler>=0.10 in /usr/local/lib/python3.7/dist-packages (from matplotlib>=3.0.2->pingouin) (0.10.0)\n",
            "Requirement already satisfied: kiwisolver>=1.0.1 in /usr/local/lib/python3.7/dist-packages (from matplotlib>=3.0.2->pingouin) (1.3.2)\n",
            "Requirement already satisfied: pyparsing!=2.0.4,!=2.1.2,!=2.1.6,>=2.0.1 in /usr/local/lib/python3.7/dist-packages (from matplotlib>=3.0.2->pingouin) (2.4.7)\n",
            "Requirement already satisfied: six in /usr/local/lib/python3.7/dist-packages (from cycler>=0.10->matplotlib>=3.0.2->pingouin) (1.15.0)\n",
            "Requirement already satisfied: pytz>=2017.2 in /usr/local/lib/python3.7/dist-packages (from pandas>=1.0->pingouin) (2018.9)\n",
            "Requirement already satisfied: xarray in /usr/local/lib/python3.7/dist-packages (from pandas_flavor>=0.2.0->pingouin) (0.18.2)\n",
            "Requirement already satisfied: patsy>=0.5.2 in /usr/local/lib/python3.7/dist-packages (from statsmodels>=0.12.0->pingouin) (0.5.2)\n",
            "Collecting littleutils\n",
            "  Downloading littleutils-0.2.2.tar.gz (6.6 kB)\n",
            "Requirement already satisfied: requests in /usr/local/lib/python3.7/dist-packages (from outdated->pingouin) (2.23.0)\n",
            "Requirement already satisfied: certifi>=2017.4.17 in /usr/local/lib/python3.7/dist-packages (from requests->outdated->pingouin) (2021.5.30)\n",
            "Requirement already satisfied: idna<3,>=2.5 in /usr/local/lib/python3.7/dist-packages (from requests->outdated->pingouin) (2.10)\n",
            "Requirement already satisfied: chardet<4,>=3.0.2 in /usr/local/lib/python3.7/dist-packages (from requests->outdated->pingouin) (3.0.4)\n",
            "Requirement already satisfied: urllib3!=1.25.0,!=1.25.1,<1.26,>=1.21.1 in /usr/local/lib/python3.7/dist-packages (from requests->outdated->pingouin) (1.24.3)\n",
            "Requirement already satisfied: joblib>=0.11 in /usr/local/lib/python3.7/dist-packages (from scikit-learn->pingouin) (1.0.1)\n",
            "Requirement already satisfied: setuptools>=40.4 in /usr/local/lib/python3.7/dist-packages (from xarray->pandas_flavor>=0.2.0->pingouin) (57.4.0)\n",
            "Building wheels for collected packages: pingouin, littleutils\n",
            "  Building wheel for pingouin (setup.py) ... \u001b[?25l\u001b[?25hdone\n",
            "  Created wheel for pingouin: filename=pingouin-0.5.0-py3-none-any.whl size=193661 sha256=044211c00a1b41f9012a4a8eedb3859604d5f5518035f9f826f0a3ef11bf5d77\n",
            "  Stored in directory: /root/.cache/pip/wheels/14/46/f9/cedd81d68d2515c24bbbd000d5b347e4fe092ccc4b568f7f70\n",
            "  Building wheel for littleutils (setup.py) ... \u001b[?25l\u001b[?25hdone\n",
            "  Created wheel for littleutils: filename=littleutils-0.2.2-py3-none-any.whl size=7048 sha256=07e781862ed518b126000fdfabac21c012310f851ddca8955ac26c3e29ba73b4\n",
            "  Stored in directory: /root/.cache/pip/wheels/d6/64/cd/32819b511a488e4993f2fab909a95330289c3f4e0f6ef4676d\n",
            "Successfully built pingouin littleutils\n",
            "Installing collected packages: scipy, littleutils, statsmodels, pandas-flavor, outdated, pingouin\n",
            "  Attempting uninstall: scipy\n",
            "    Found existing installation: scipy 1.4.1\n",
            "    Uninstalling scipy-1.4.1:\n",
            "      Successfully uninstalled scipy-1.4.1\n",
            "  Attempting uninstall: statsmodels\n",
            "    Found existing installation: statsmodels 0.10.2\n",
            "    Uninstalling statsmodels-0.10.2:\n",
            "      Successfully uninstalled statsmodels-0.10.2\n",
            "\u001b[31mERROR: pip's dependency resolver does not currently take into account all the packages that are installed. This behaviour is the source of the following dependency conflicts.\n",
            "albumentations 0.1.12 requires imgaug<0.2.7,>=0.2.5, but you have imgaug 0.2.9 which is incompatible.\u001b[0m\n",
            "Successfully installed littleutils-0.2.2 outdated-0.2.1 pandas-flavor-0.2.0 pingouin-0.5.0 scipy-1.7.2 statsmodels-0.13.0\n"
          ]
        },
        {
          "output_type": "display_data",
          "data": {
            "application/vnd.colab-display-data+json": {
              "pip_warning": {
                "packages": [
                  "scipy",
                  "statsmodels"
                ]
              }
            }
          },
          "metadata": {}
        }
      ]
    },
    {
      "cell_type": "markdown",
      "metadata": {
        "id": "KWzq-wblJRpy"
      },
      "source": [
        "# Input Dataset\n"
      ]
    },
    {
      "cell_type": "code",
      "metadata": {
        "colab": {
          "base_uri": "https://localhost:8080/"
        },
        "id": "N8fEFDPwE8VQ",
        "outputId": "40ee8d61-bfa5-4ab3-883c-203e8608d6c5"
      },
      "source": [
        "drive.mount('/content/drive')\n",
        "os.chdir(\"/content/drive/MyDrive/task-in/Task5/Task5-3\")"
      ],
      "execution_count": 2,
      "outputs": [
        {
          "output_type": "stream",
          "name": "stdout",
          "text": [
            "Mounted at /content/drive\n"
          ]
        }
      ]
    },
    {
      "cell_type": "code",
      "metadata": {
        "id": "xZWh0R91E8YI"
      },
      "source": [
        "features = pd.read_csv('/content/drive/MyDrive/task-in/Task5/Task5-3/features.csv')\n",
        "stores = pd.read_csv('/content/drive/MyDrive/task-in/Task5/Task5-3/stores.csv')\n",
        "train = pd.read_csv('/content/drive/MyDrive/task-in/Task5/Task5-3/train.csv')\n",
        "test = pd.read_csv('/content/drive/MyDrive/task-in/Task5/Task5-3/test.csv')\n",
        "sampleSubmission = pd.read_csv('/content/drive/MyDrive/task-in/Task5/Task5-3/sampleSubmission.csv')"
      ],
      "execution_count": 3,
      "outputs": []
    },
    {
      "cell_type": "code",
      "metadata": {
        "colab": {
          "base_uri": "https://localhost:8080/"
        },
        "id": "A6KGK02EE8a_",
        "outputId": "b9861ec6-cd08-46fa-dfbd-a44683bc2ffa"
      },
      "source": [
        "print(features.info())\n",
        "print('\\n')\n",
        "print(stores.info())\n",
        "print('\\n')\n",
        "print(train.info())\n",
        "print('\\n')\n",
        "print(test.info())\n",
        "print('\\n')\n",
        "print(sampleSubmission.info())"
      ],
      "execution_count": 4,
      "outputs": [
        {
          "output_type": "stream",
          "name": "stdout",
          "text": [
            "<class 'pandas.core.frame.DataFrame'>\n",
            "RangeIndex: 8190 entries, 0 to 8189\n",
            "Data columns (total 12 columns):\n",
            " #   Column        Non-Null Count  Dtype  \n",
            "---  ------        --------------  -----  \n",
            " 0   Store         8190 non-null   int64  \n",
            " 1   Date          8190 non-null   object \n",
            " 2   Temperature   8190 non-null   float64\n",
            " 3   Fuel_Price    8190 non-null   float64\n",
            " 4   MarkDown1     4032 non-null   float64\n",
            " 5   MarkDown2     2921 non-null   float64\n",
            " 6   MarkDown3     3613 non-null   float64\n",
            " 7   MarkDown4     3464 non-null   float64\n",
            " 8   MarkDown5     4050 non-null   float64\n",
            " 9   CPI           7605 non-null   float64\n",
            " 10  Unemployment  7605 non-null   float64\n",
            " 11  IsHoliday     8190 non-null   bool   \n",
            "dtypes: bool(1), float64(9), int64(1), object(1)\n",
            "memory usage: 712.0+ KB\n",
            "None\n",
            "\n",
            "\n",
            "<class 'pandas.core.frame.DataFrame'>\n",
            "RangeIndex: 45 entries, 0 to 44\n",
            "Data columns (total 3 columns):\n",
            " #   Column  Non-Null Count  Dtype \n",
            "---  ------  --------------  ----- \n",
            " 0   Store   45 non-null     int64 \n",
            " 1   Type    45 non-null     object\n",
            " 2   Size    45 non-null     int64 \n",
            "dtypes: int64(2), object(1)\n",
            "memory usage: 1.2+ KB\n",
            "None\n",
            "\n",
            "\n",
            "<class 'pandas.core.frame.DataFrame'>\n",
            "RangeIndex: 421570 entries, 0 to 421569\n",
            "Data columns (total 5 columns):\n",
            " #   Column        Non-Null Count   Dtype  \n",
            "---  ------        --------------   -----  \n",
            " 0   Store         421570 non-null  int64  \n",
            " 1   Dept          421570 non-null  int64  \n",
            " 2   Date          421570 non-null  object \n",
            " 3   Weekly_Sales  421570 non-null  float64\n",
            " 4   IsHoliday     421570 non-null  bool   \n",
            "dtypes: bool(1), float64(1), int64(2), object(1)\n",
            "memory usage: 13.3+ MB\n",
            "None\n",
            "\n",
            "\n",
            "<class 'pandas.core.frame.DataFrame'>\n",
            "RangeIndex: 115064 entries, 0 to 115063\n",
            "Data columns (total 4 columns):\n",
            " #   Column     Non-Null Count   Dtype \n",
            "---  ------     --------------   ----- \n",
            " 0   Store      115064 non-null  int64 \n",
            " 1   Dept       115064 non-null  int64 \n",
            " 2   Date       115064 non-null  object\n",
            " 3   IsHoliday  115064 non-null  bool  \n",
            "dtypes: bool(1), int64(2), object(1)\n",
            "memory usage: 2.7+ MB\n",
            "None\n",
            "\n",
            "\n",
            "<class 'pandas.core.frame.DataFrame'>\n",
            "RangeIndex: 115064 entries, 0 to 115063\n",
            "Data columns (total 2 columns):\n",
            " #   Column        Non-Null Count   Dtype \n",
            "---  ------        --------------   ----- \n",
            " 0   Id            115064 non-null  object\n",
            " 1   Weekly_Sales  115064 non-null  int64 \n",
            "dtypes: int64(1), object(1)\n",
            "memory usage: 1.8+ MB\n",
            "None\n"
          ]
        }
      ]
    },
    {
      "cell_type": "code",
      "metadata": {
        "colab": {
          "base_uri": "https://localhost:8080/",
          "height": 142
        },
        "id": "olcTNqaXSzac",
        "outputId": "dc1837a1-2a35-4c00-9741-4fd4c78c45f1"
      },
      "source": [
        "features.head(3)"
      ],
      "execution_count": 5,
      "outputs": [
        {
          "output_type": "execute_result",
          "data": {
            "text/html": [
              "<div>\n",
              "<style scoped>\n",
              "    .dataframe tbody tr th:only-of-type {\n",
              "        vertical-align: middle;\n",
              "    }\n",
              "\n",
              "    .dataframe tbody tr th {\n",
              "        vertical-align: top;\n",
              "    }\n",
              "\n",
              "    .dataframe thead th {\n",
              "        text-align: right;\n",
              "    }\n",
              "</style>\n",
              "<table border=\"1\" class=\"dataframe\">\n",
              "  <thead>\n",
              "    <tr style=\"text-align: right;\">\n",
              "      <th></th>\n",
              "      <th>Store</th>\n",
              "      <th>Date</th>\n",
              "      <th>Temperature</th>\n",
              "      <th>Fuel_Price</th>\n",
              "      <th>MarkDown1</th>\n",
              "      <th>MarkDown2</th>\n",
              "      <th>MarkDown3</th>\n",
              "      <th>MarkDown4</th>\n",
              "      <th>MarkDown5</th>\n",
              "      <th>CPI</th>\n",
              "      <th>Unemployment</th>\n",
              "      <th>IsHoliday</th>\n",
              "    </tr>\n",
              "  </thead>\n",
              "  <tbody>\n",
              "    <tr>\n",
              "      <th>0</th>\n",
              "      <td>1</td>\n",
              "      <td>2010-02-05</td>\n",
              "      <td>42.31</td>\n",
              "      <td>2.572</td>\n",
              "      <td>NaN</td>\n",
              "      <td>NaN</td>\n",
              "      <td>NaN</td>\n",
              "      <td>NaN</td>\n",
              "      <td>NaN</td>\n",
              "      <td>211.096358</td>\n",
              "      <td>8.106</td>\n",
              "      <td>False</td>\n",
              "    </tr>\n",
              "    <tr>\n",
              "      <th>1</th>\n",
              "      <td>1</td>\n",
              "      <td>2010-02-12</td>\n",
              "      <td>38.51</td>\n",
              "      <td>2.548</td>\n",
              "      <td>NaN</td>\n",
              "      <td>NaN</td>\n",
              "      <td>NaN</td>\n",
              "      <td>NaN</td>\n",
              "      <td>NaN</td>\n",
              "      <td>211.242170</td>\n",
              "      <td>8.106</td>\n",
              "      <td>True</td>\n",
              "    </tr>\n",
              "    <tr>\n",
              "      <th>2</th>\n",
              "      <td>1</td>\n",
              "      <td>2010-02-19</td>\n",
              "      <td>39.93</td>\n",
              "      <td>2.514</td>\n",
              "      <td>NaN</td>\n",
              "      <td>NaN</td>\n",
              "      <td>NaN</td>\n",
              "      <td>NaN</td>\n",
              "      <td>NaN</td>\n",
              "      <td>211.289143</td>\n",
              "      <td>8.106</td>\n",
              "      <td>False</td>\n",
              "    </tr>\n",
              "  </tbody>\n",
              "</table>\n",
              "</div>"
            ],
            "text/plain": [
              "   Store        Date  Temperature  ...         CPI  Unemployment  IsHoliday\n",
              "0      1  2010-02-05        42.31  ...  211.096358         8.106      False\n",
              "1      1  2010-02-12        38.51  ...  211.242170         8.106       True\n",
              "2      1  2010-02-19        39.93  ...  211.289143         8.106      False\n",
              "\n",
              "[3 rows x 12 columns]"
            ]
          },
          "metadata": {},
          "execution_count": 5
        }
      ]
    },
    {
      "cell_type": "code",
      "metadata": {
        "colab": {
          "base_uri": "https://localhost:8080/",
          "height": 142
        },
        "id": "WoH_AGgaE8dY",
        "outputId": "506ea34d-5674-4331-c086-1374a43a0511"
      },
      "source": [
        "stores.head(3)"
      ],
      "execution_count": 6,
      "outputs": [
        {
          "output_type": "execute_result",
          "data": {
            "text/html": [
              "<div>\n",
              "<style scoped>\n",
              "    .dataframe tbody tr th:only-of-type {\n",
              "        vertical-align: middle;\n",
              "    }\n",
              "\n",
              "    .dataframe tbody tr th {\n",
              "        vertical-align: top;\n",
              "    }\n",
              "\n",
              "    .dataframe thead th {\n",
              "        text-align: right;\n",
              "    }\n",
              "</style>\n",
              "<table border=\"1\" class=\"dataframe\">\n",
              "  <thead>\n",
              "    <tr style=\"text-align: right;\">\n",
              "      <th></th>\n",
              "      <th>Store</th>\n",
              "      <th>Type</th>\n",
              "      <th>Size</th>\n",
              "    </tr>\n",
              "  </thead>\n",
              "  <tbody>\n",
              "    <tr>\n",
              "      <th>0</th>\n",
              "      <td>1</td>\n",
              "      <td>A</td>\n",
              "      <td>151315</td>\n",
              "    </tr>\n",
              "    <tr>\n",
              "      <th>1</th>\n",
              "      <td>2</td>\n",
              "      <td>A</td>\n",
              "      <td>202307</td>\n",
              "    </tr>\n",
              "    <tr>\n",
              "      <th>2</th>\n",
              "      <td>3</td>\n",
              "      <td>B</td>\n",
              "      <td>37392</td>\n",
              "    </tr>\n",
              "  </tbody>\n",
              "</table>\n",
              "</div>"
            ],
            "text/plain": [
              "   Store Type    Size\n",
              "0      1    A  151315\n",
              "1      2    A  202307\n",
              "2      3    B   37392"
            ]
          },
          "metadata": {},
          "execution_count": 6
        }
      ]
    },
    {
      "cell_type": "code",
      "metadata": {
        "colab": {
          "base_uri": "https://localhost:8080/",
          "height": 142
        },
        "id": "uMILBlc6E8gP",
        "outputId": "d96eade3-bf5b-407b-98ec-4f1d40a8f4b7"
      },
      "source": [
        "train.head(3)"
      ],
      "execution_count": 7,
      "outputs": [
        {
          "output_type": "execute_result",
          "data": {
            "text/html": [
              "<div>\n",
              "<style scoped>\n",
              "    .dataframe tbody tr th:only-of-type {\n",
              "        vertical-align: middle;\n",
              "    }\n",
              "\n",
              "    .dataframe tbody tr th {\n",
              "        vertical-align: top;\n",
              "    }\n",
              "\n",
              "    .dataframe thead th {\n",
              "        text-align: right;\n",
              "    }\n",
              "</style>\n",
              "<table border=\"1\" class=\"dataframe\">\n",
              "  <thead>\n",
              "    <tr style=\"text-align: right;\">\n",
              "      <th></th>\n",
              "      <th>Store</th>\n",
              "      <th>Dept</th>\n",
              "      <th>Date</th>\n",
              "      <th>Weekly_Sales</th>\n",
              "      <th>IsHoliday</th>\n",
              "    </tr>\n",
              "  </thead>\n",
              "  <tbody>\n",
              "    <tr>\n",
              "      <th>0</th>\n",
              "      <td>1</td>\n",
              "      <td>1</td>\n",
              "      <td>2010-02-05</td>\n",
              "      <td>24924.50</td>\n",
              "      <td>False</td>\n",
              "    </tr>\n",
              "    <tr>\n",
              "      <th>1</th>\n",
              "      <td>1</td>\n",
              "      <td>1</td>\n",
              "      <td>2010-02-12</td>\n",
              "      <td>46039.49</td>\n",
              "      <td>True</td>\n",
              "    </tr>\n",
              "    <tr>\n",
              "      <th>2</th>\n",
              "      <td>1</td>\n",
              "      <td>1</td>\n",
              "      <td>2010-02-19</td>\n",
              "      <td>41595.55</td>\n",
              "      <td>False</td>\n",
              "    </tr>\n",
              "  </tbody>\n",
              "</table>\n",
              "</div>"
            ],
            "text/plain": [
              "   Store  Dept        Date  Weekly_Sales  IsHoliday\n",
              "0      1     1  2010-02-05      24924.50      False\n",
              "1      1     1  2010-02-12      46039.49       True\n",
              "2      1     1  2010-02-19      41595.55      False"
            ]
          },
          "metadata": {},
          "execution_count": 7
        }
      ]
    },
    {
      "cell_type": "code",
      "metadata": {
        "colab": {
          "base_uri": "https://localhost:8080/",
          "height": 142
        },
        "id": "eP6lD13SE8jB",
        "outputId": "b333dc01-03d2-4d3c-8e6a-a49884fa5df3"
      },
      "source": [
        "test.head(3)"
      ],
      "execution_count": 8,
      "outputs": [
        {
          "output_type": "execute_result",
          "data": {
            "text/html": [
              "<div>\n",
              "<style scoped>\n",
              "    .dataframe tbody tr th:only-of-type {\n",
              "        vertical-align: middle;\n",
              "    }\n",
              "\n",
              "    .dataframe tbody tr th {\n",
              "        vertical-align: top;\n",
              "    }\n",
              "\n",
              "    .dataframe thead th {\n",
              "        text-align: right;\n",
              "    }\n",
              "</style>\n",
              "<table border=\"1\" class=\"dataframe\">\n",
              "  <thead>\n",
              "    <tr style=\"text-align: right;\">\n",
              "      <th></th>\n",
              "      <th>Store</th>\n",
              "      <th>Dept</th>\n",
              "      <th>Date</th>\n",
              "      <th>IsHoliday</th>\n",
              "    </tr>\n",
              "  </thead>\n",
              "  <tbody>\n",
              "    <tr>\n",
              "      <th>0</th>\n",
              "      <td>1</td>\n",
              "      <td>1</td>\n",
              "      <td>2012-11-02</td>\n",
              "      <td>False</td>\n",
              "    </tr>\n",
              "    <tr>\n",
              "      <th>1</th>\n",
              "      <td>1</td>\n",
              "      <td>1</td>\n",
              "      <td>2012-11-09</td>\n",
              "      <td>False</td>\n",
              "    </tr>\n",
              "    <tr>\n",
              "      <th>2</th>\n",
              "      <td>1</td>\n",
              "      <td>1</td>\n",
              "      <td>2012-11-16</td>\n",
              "      <td>False</td>\n",
              "    </tr>\n",
              "  </tbody>\n",
              "</table>\n",
              "</div>"
            ],
            "text/plain": [
              "   Store  Dept        Date  IsHoliday\n",
              "0      1     1  2012-11-02      False\n",
              "1      1     1  2012-11-09      False\n",
              "2      1     1  2012-11-16      False"
            ]
          },
          "metadata": {},
          "execution_count": 8
        }
      ]
    },
    {
      "cell_type": "code",
      "metadata": {
        "colab": {
          "base_uri": "https://localhost:8080/",
          "height": 142
        },
        "id": "SFV4V71_E8lb",
        "outputId": "1eff25ad-1489-4bfd-b02a-8251bbe48769"
      },
      "source": [
        "sampleSubmission.head(3)"
      ],
      "execution_count": 9,
      "outputs": [
        {
          "output_type": "execute_result",
          "data": {
            "text/html": [
              "<div>\n",
              "<style scoped>\n",
              "    .dataframe tbody tr th:only-of-type {\n",
              "        vertical-align: middle;\n",
              "    }\n",
              "\n",
              "    .dataframe tbody tr th {\n",
              "        vertical-align: top;\n",
              "    }\n",
              "\n",
              "    .dataframe thead th {\n",
              "        text-align: right;\n",
              "    }\n",
              "</style>\n",
              "<table border=\"1\" class=\"dataframe\">\n",
              "  <thead>\n",
              "    <tr style=\"text-align: right;\">\n",
              "      <th></th>\n",
              "      <th>Id</th>\n",
              "      <th>Weekly_Sales</th>\n",
              "    </tr>\n",
              "  </thead>\n",
              "  <tbody>\n",
              "    <tr>\n",
              "      <th>0</th>\n",
              "      <td>1_1_2012-11-02</td>\n",
              "      <td>0</td>\n",
              "    </tr>\n",
              "    <tr>\n",
              "      <th>1</th>\n",
              "      <td>1_1_2012-11-09</td>\n",
              "      <td>0</td>\n",
              "    </tr>\n",
              "    <tr>\n",
              "      <th>2</th>\n",
              "      <td>1_1_2012-11-16</td>\n",
              "      <td>0</td>\n",
              "    </tr>\n",
              "  </tbody>\n",
              "</table>\n",
              "</div>"
            ],
            "text/plain": [
              "               Id  Weekly_Sales\n",
              "0  1_1_2012-11-02             0\n",
              "1  1_1_2012-11-09             0\n",
              "2  1_1_2012-11-16             0"
            ]
          },
          "metadata": {},
          "execution_count": 9
        }
      ]
    },
    {
      "cell_type": "code",
      "metadata": {
        "id": "a8f3LawhE8oA"
      },
      "source": [
        "# print(features.isnull().sum())\n",
        "# print('\\n')\n",
        "# print(stores.isnull().sum())\n",
        "# print('\\n')\n",
        "# print(test.isnull().sum())\n",
        "# print('\\n')\n",
        "# print(sampleSubmission.isnull().sum())\n",
        "# print('\\n')\n",
        "# print(train.isnull().sum())"
      ],
      "execution_count": 10,
      "outputs": []
    },
    {
      "cell_type": "code",
      "metadata": {
        "colab": {
          "base_uri": "https://localhost:8080/"
        },
        "id": "hr8uvNsqSaNb",
        "outputId": "da53d404-1d70-4b57-caca-28ed1d415342"
      },
      "source": [
        "print(\"features.shape\", features.shape)\n",
        "print(\"stores.shape\", stores.shape)\n",
        "print(\"train.shape\", train.shape)\n",
        "print(\"test.shape\", test.shape)\n",
        "print(\"submission.shape\", sampleSubmission.shape)"
      ],
      "execution_count": 11,
      "outputs": [
        {
          "output_type": "stream",
          "name": "stdout",
          "text": [
            "features.shape (8190, 12)\n",
            "stores.shape (45, 3)\n",
            "train.shape (421570, 5)\n",
            "test.shape (115064, 4)\n",
            "submission.shape (115064, 2)\n"
          ]
        }
      ]
    },
    {
      "cell_type": "markdown",
      "metadata": {
        "id": "yAdIRQQcE8qo"
      },
      "source": [
        "# Merging Data Sets\n"
      ]
    },
    {
      "cell_type": "code",
      "metadata": {
        "colab": {
          "base_uri": "https://localhost:8080/"
        },
        "id": "xRqEBDu3E8_B",
        "outputId": "4cf5c146-7835-4f67-94e3-e73e617d6487"
      },
      "source": [
        "feature_store = features.merge(stores, how='inner', on = \"Store\")\n",
        "print(\"The number of rows and columns is: \",(feature_store.shape))\n",
        "print(\"There are\",(len(feature_store.Store.unique())), 'single stores')\n",
        "\n",
        "train_df = train.merge(feature_store, how='inner', \n",
        "                       on = ['Store','Date','IsHoliday']).sort_values(by=['Store','Dept','Date']).reset_index(drop=True)\n",
        "print(\"The number of rows and columns is:\",(train_df.shape))\n",
        "\n",
        "test_df = test.merge(feature_store, how='inner', \n",
        "                     on = ['Store','Date','IsHoliday']).sort_values(by = ['Store','Dept','Date']).reset_index(drop=True)\n",
        "print(\"The number of rows and columns is: \",(test_df.shape))"
      ],
      "execution_count": 12,
      "outputs": [
        {
          "output_type": "stream",
          "name": "stdout",
          "text": [
            "The number of rows and columns is:  (8190, 14)\n",
            "There are 45 single stores\n",
            "The number of rows and columns is: (421570, 16)\n",
            "The number of rows and columns is:  (115064, 15)\n"
          ]
        }
      ]
    },
    {
      "cell_type": "markdown",
      "metadata": {
        "id": "TAuBh32pE9Ef"
      },
      "source": [
        "# Convert \"Date\" Column to Datetime Format"
      ]
    },
    {
      "cell_type": "code",
      "metadata": {
        "id": "R3VfP9m9E9G3"
      },
      "source": [
        "# train_df['Date'] = pd.to_datetime(train_df['Date'])\n",
        "# train_df['Day'] = train_df['Date'].dt.day\n",
        "def split_date(df, date):\n",
        "  df['dt_ref'] = pd.to_datetime(df[date])\n",
        "  df['year'] = df.dt_ref.dt.year\n",
        "  df['month'] = df.dt_ref.dt.month\n",
        "  df['day'] = df.dt_ref.dt.day\n",
        "  df['week_of_year'] = df.dt_ref.dt.isocalendar().week\n",
        "  df['period_month'] = df.dt_ref.dt.to_period('M')   #?"
      ],
      "execution_count": 13,
      "outputs": []
    },
    {
      "cell_type": "code",
      "metadata": {
        "colab": {
          "base_uri": "https://localhost:8080/",
          "height": 448
        },
        "id": "7NUuXOwxE9JR",
        "outputId": "58a7eb75-9bab-403b-a22d-dd6802e092bd"
      },
      "source": [
        "# IsHoliday - whether the week is a special holiday week\n",
        "# Boxplt: distribution of observation data\n",
        "'''\n",
        "A boxplot contains six main data nodes, which arrange a set of data from largest to smallest.\n",
        "And calculate his upper edge (upper limit), upper quartile Q3, median, lower quartile Q1, lower edge(lower limit).\n",
        "And an outlier respectively.\n",
        "'''\n",
        "split_date(train_df, 'Date')\n",
        "\n",
        "print(train_df[['month','Weekly_Sales','IsHoliday']].head())\n",
        "\n",
        "plt.figure(figsize = (25,6))\n",
        "plt.title ('Weekly sales colume as a function of holidays')\n",
        "fig = sns.boxplot(x = 'month'\n",
        "                  ,y = 'Weekly_Sales'\n",
        "                  ,data = train_df[['month','Weekly_Sales','IsHoliday']]\n",
        "                  ,showfliers = False\n",
        "                  ,hue = 'IsHoliday')\n"
      ],
      "execution_count": 14,
      "outputs": [
        {
          "output_type": "stream",
          "name": "stdout",
          "text": [
            "   month  Weekly_Sales  IsHoliday\n",
            "0      2      24924.50      False\n",
            "1      2      46039.49       True\n",
            "2      2      41595.55      False\n",
            "3      2      19403.54      False\n",
            "4      3      21827.90      False\n"
          ]
        },
        {
          "output_type": "display_data",
          "data": {
            "image/png": "[encoded data removed]",
            "text/plain": [
              "<Figure size 1800x432 with 1 Axes>"
            ]
          },
          "metadata": {
            "needs_background": "light"
          }
        }
      ]
    },
    {
      "cell_type": "markdown",
      "metadata": {
        "id": "8OxcVG8Ca96U"
      },
      "source": [
        "### We can investigate the variation in sales between shops and the extent to which holidays affect sales in each shop"
      ]
    },
    {
      "cell_type": "code",
      "metadata": {
        "colab": {
          "base_uri": "https://localhost:8080/",
          "height": 345
        },
        "id": "Wn-U9jnra9b2",
        "outputId": "84847afa-9e30-4d82-e3ef-f808190b2873"
      },
      "source": [
        "plt.figure(figsize = (25,6))\n",
        "plt.title ('Changes in sales are related to the impact of shops and holidays')\n",
        "fig = sns.boxplot(x = 'Store'\n",
        "                  ,y = 'Weekly_Sales'\n",
        "                  ,data = train_df[['Store','Weekly_Sales','IsHoliday']]\n",
        "                  ,showfliers = False\n",
        "                  ,hue = 'IsHoliday')"
      ],
      "execution_count": 15,
      "outputs": [
        {
          "output_type": "display_data",
          "data": {
            "image/png": "[encoded data removed]",
            "text/plain": [
              "<Figure size 1800x432 with 1 Axes>"
            ]
          },
          "metadata": {
            "needs_background": "light"
          }
        }
      ]
    },
    {
      "cell_type": "markdown",
      "metadata": {
        "id": "ST36XUFFE9Lx"
      },
      "source": [
        "### Sales Per Week Per Year"
      ]
    },
    {
      "cell_type": "code",
      "metadata": {
        "colab": {
          "base_uri": "https://localhost:8080/",
          "height": 429
        },
        "id": "4lvbuQm1XdFx",
        "outputId": "a24874b7-79d8-4178-94e7-a76e75166825"
      },
      "source": [
        "weekly_sales_2010 = train_df[train_df.year==2010].groupby('week_of_year')['Weekly_Sales'].mean()\n",
        "weekly_sales_2011 = train_df[train_df.year==2011].groupby('week_of_year')['Weekly_Sales'].mean()\n",
        "weekly_sales_2012 = train_df[train_df.year==2012].groupby('week_of_year')['Weekly_Sales'].mean()\n",
        "\n",
        "plt.figure(figsize=(20,6))\n",
        "plt.plot(weekly_sales_2010.index, weekly_sales_2010.values)\n",
        "plt.plot(weekly_sales_2011.index, weekly_sales_2011.values)\n",
        "plt.plot(weekly_sales_2012.index, weekly_sales_2012.values)\n",
        "\n",
        "plt.xticks(np.arange(1, 53, step=1), fontsize=16)\n",
        "plt.yticks( fontsize=16)\n",
        "plt.xlabel('Week of Year', fontsize=16, labelpad=20)\n",
        "plt.ylabel('Sales', fontsize=20, labelpad=20)\n",
        "\n",
        "plt.title(\"Sales per week per year\", fontsize=16)\n",
        "plt.legend(['2010', '2011', '2012'], fontsize=14);"
      ],
      "execution_count": 16,
      "outputs": [
        {
          "output_type": "display_data",
          "data": {
            "image/png": "[encoded data removed]",
            "text/plain": [
              "<Figure size 1440x432 with 1 Axes>"
            ]
          },
          "metadata": {
            "needs_background": "light"
          }
        }
      ]
    },
    {
      "cell_type": "code",
      "metadata": {
        "colab": {
          "base_uri": "https://localhost:8080/"
        },
        "id": "mQ7ao0oucKjU",
        "outputId": "f05c2842-1c41-46b9-b692-1d2bbe230383"
      },
      "source": [
        "# Missing values\n",
        "#train_df.isna().sum()\n",
        "print(train_df.isnull().sum())\n",
        "print('\\n')\n",
        "print(test_df.isnull().sum())"
      ],
      "execution_count": 17,
      "outputs": [
        {
          "output_type": "stream",
          "name": "stdout",
          "text": [
            "Store                0\n",
            "Dept                 0\n",
            "Date                 0\n",
            "Weekly_Sales         0\n",
            "IsHoliday            0\n",
            "Temperature          0\n",
            "Fuel_Price           0\n",
            "MarkDown1       270889\n",
            "MarkDown2       310322\n",
            "MarkDown3       284479\n",
            "MarkDown4       286603\n",
            "MarkDown5       270138\n",
            "CPI                  0\n",
            "Unemployment         0\n",
            "Type                 0\n",
            "Size                 0\n",
            "dt_ref               0\n",
            "year                 0\n",
            "month                0\n",
            "day                  0\n",
            "week_of_year         0\n",
            "period_month         0\n",
            "dtype: int64\n",
            "\n",
            "\n",
            "Store               0\n",
            "Dept                0\n",
            "Date                0\n",
            "IsHoliday           0\n",
            "Temperature         0\n",
            "Fuel_Price          0\n",
            "MarkDown1         149\n",
            "MarkDown2       28627\n",
            "MarkDown3        9829\n",
            "MarkDown4       12888\n",
            "MarkDown5           0\n",
            "CPI             38162\n",
            "Unemployment    38162\n",
            "Type                0\n",
            "Size                0\n",
            "dtype: int64\n"
          ]
        }
      ]
    },
    {
      "cell_type": "code",
      "metadata": {
        "colab": {
          "base_uri": "https://localhost:8080/"
        },
        "id": "n3K37WgIcKzz",
        "outputId": "f1c448c5-0898-41a0-f980-c1dbc4f0f450"
      },
      "source": [
        "# Missing values in 'train_df' and 'test_df' are filled in with '0' values\n",
        "# However, in 'test_df', CPI and Unemployment are filled in with averages\n",
        "# train_df,test_df\n",
        "train_df.fillna(0, inplace = True)\n",
        "\n",
        "test_df['CPI'].fillna(test_df['CPI'].mean(), inplace = True)\n",
        "test_df['Unemployment'].fillna(test_df['Unemployment'].mean(), inplace = True)\n",
        "test_df.fillna(0, inplace = True)\n",
        "\n",
        "print(train_df.isnull().sum())\n",
        "print('\\n')\n",
        "print(test_df.isnull().sum())"
      ],
      "execution_count": 18,
      "outputs": [
        {
          "output_type": "stream",
          "name": "stdout",
          "text": [
            "Store           0\n",
            "Dept            0\n",
            "Date            0\n",
            "Weekly_Sales    0\n",
            "IsHoliday       0\n",
            "Temperature     0\n",
            "Fuel_Price      0\n",
            "MarkDown1       0\n",
            "MarkDown2       0\n",
            "MarkDown3       0\n",
            "MarkDown4       0\n",
            "MarkDown5       0\n",
            "CPI             0\n",
            "Unemployment    0\n",
            "Type            0\n",
            "Size            0\n",
            "dt_ref          0\n",
            "year            0\n",
            "month           0\n",
            "day             0\n",
            "week_of_year    0\n",
            "period_month    0\n",
            "dtype: int64\n",
            "\n",
            "\n",
            "Store           0\n",
            "Dept            0\n",
            "Date            0\n",
            "IsHoliday       0\n",
            "Temperature     0\n",
            "Fuel_Price      0\n",
            "MarkDown1       0\n",
            "MarkDown2       0\n",
            "MarkDown3       0\n",
            "MarkDown4       0\n",
            "MarkDown5       0\n",
            "CPI             0\n",
            "Unemployment    0\n",
            "Type            0\n",
            "Size            0\n",
            "dtype: int64\n"
          ]
        }
      ]
    },
    {
      "cell_type": "code",
      "metadata": {
        "id": "REnG0IhuAGWE"
      },
      "source": [
        "target = ['Weekly_Sales']\n",
        "numeric_col = [\n",
        "               'Store', 'Dept','Temperature', 'Fuel_Price',\n",
        "               'MarkDown1', 'MarkDown2', 'MarkDown3', 'MarkDown4', \n",
        "               'MarkDown5', 'CPI','Unemployment', 'IsHoliday', 'Size',\n",
        "              ]\n",
        "categorical_col = ['Date', 'period_month','month', 'year', 'Store', 'Type', 'week_of_year']\n",
        "\n",
        "def create_encode(df, col):\n",
        "    le = LabelEncoder()\n",
        "    a = le.fit_transform(train_df[col]).reshape(-1,1)\n",
        "    ohe = OneHotEncoder(sparse=False)\n",
        "    col_names = [col+ \"_\" + str(i) for i in le.classes_]\n",
        "    return (pd.DataFrame(ohe.fit_transform(a), columns = col_names))"
      ],
      "execution_count": 19,
      "outputs": []
    },
    {
      "cell_type": "code",
      "metadata": {
        "id": "EilJrVpPALXt"
      },
      "source": [
        "temp = train_df[numeric_col]\n",
        "\n",
        "for col in categorical_col:\n",
        "    temp_df = create_encode(train_df, col)\n",
        "    temp = pd.concat([temp, temp_df], axis=1)"
      ],
      "execution_count": 20,
      "outputs": []
    },
    {
      "cell_type": "code",
      "metadata": {
        "id": "L_RZZebVALdN",
        "colab": {
          "base_uri": "https://localhost:8080/"
        },
        "outputId": "7e580ce1-f7ce-4cbb-eb32-b36144378193"
      },
      "source": [
        "print('Shape of Data: ', temp.shape)\n",
        "print('Distinct Datatypes: ', temp.dtypes.unique())"
      ],
      "execution_count": 21,
      "outputs": [
        {
          "output_type": "stream",
          "name": "stdout",
          "text": [
            "Shape of Data:  (421570, 304)\n",
            "Distinct Datatypes:  [dtype('int64') dtype('float64') dtype('bool')]\n"
          ]
        }
      ]
    },
    {
      "cell_type": "code",
      "metadata": {
        "id": "oBo34eyhALht",
        "colab": {
          "base_uri": "https://localhost:8080/"
        },
        "outputId": "77d5a640-2353-42ca-e27a-ffb34e60c750"
      },
      "source": [
        "temp['IsHoliday'] = np.where(temp['IsHoliday']=='0', 0,1)\n",
        "temp.dtypes.unique()"
      ],
      "execution_count": 22,
      "outputs": [
        {
          "output_type": "execute_result",
          "data": {
            "text/plain": [
              "array([dtype('int64'), dtype('float64')], dtype=object)"
            ]
          },
          "metadata": {},
          "execution_count": 22
        }
      ]
    },
    {
      "cell_type": "code",
      "metadata": {
        "id": "uSb7VhLkALpQ"
      },
      "source": [
        "X_train, X_test, y_train, y_test = train_test_split(temp, train_df[target], test_size=0.2, random_state=1000)\n",
        "X_train, X_val, y_train, y_val = train_test_split(X_train, y_train, test_size=0.1, random_state=1000)"
      ],
      "execution_count": 23,
      "outputs": []
    },
    {
      "cell_type": "code",
      "metadata": {
        "id": "cbhcQvjPALwH",
        "colab": {
          "base_uri": "https://localhost:8080/"
        },
        "outputId": "d40ed6aa-8276-48c3-9398-4573cb8821b5"
      },
      "source": [
        "print('Shape of X_train: ', X_train.shape)\n",
        "print('Shape of X_val: ', X_val.shape)\n",
        "print('Shape of X_test: ', X_test.shape)\n",
        "print('Shape of y_train: ', y_train.shape)\n",
        "print('Shape of y_val: ', y_val.shape)\n",
        "print('Shape of y_test: ', y_test.shape)"
      ],
      "execution_count": 24,
      "outputs": [
        {
          "output_type": "stream",
          "name": "stdout",
          "text": [
            "Shape of X_train:  (303530, 304)\n",
            "Shape of X_val:  (33726, 304)\n",
            "Shape of X_test:  (84314, 304)\n",
            "Shape of y_train:  (303530, 1)\n",
            "Shape of y_val:  (33726, 1)\n",
            "Shape of y_test:  (84314, 1)\n"
          ]
        }
      ]
    },
    {
      "cell_type": "code",
      "metadata": {
        "id": "lldC3cPPAlx5",
        "colab": {
          "base_uri": "https://localhost:8080/"
        },
        "outputId": "745034cb-3c5d-4552-ed6b-9a7a01a44d36"
      },
      "source": [
        "model = Sequential()\n",
        "model.add(Dense(350, input_dim=304, activation='relu'))\n",
        "model.add(Dense(350, activation='relu'))\n",
        "model.add(Dense(350, activation='relu'))\n",
        "model.add(Dense(350, activation='relu'))\n",
        "model.add(Dense(1, activation='softmax'))\n",
        "model.summary()"
      ],
      "execution_count": 25,
      "outputs": [
        {
          "output_type": "stream",
          "name": "stdout",
          "text": [
            "Model: \"sequential\"\n",
            "_________________________________________________________________\n",
            "Layer (type)                 Output Shape              Param #   \n",
            "=================================================================\n",
            "dense (Dense)                (None, 350)               106750    \n",
            "_________________________________________________________________\n",
            "dense_1 (Dense)              (None, 350)               122850    \n",
            "_________________________________________________________________\n",
            "dense_2 (Dense)              (None, 350)               122850    \n",
            "_________________________________________________________________\n",
            "dense_3 (Dense)              (None, 350)               122850    \n",
            "_________________________________________________________________\n",
            "dense_4 (Dense)              (None, 1)                 351       \n",
            "=================================================================\n",
            "Total params: 475,651\n",
            "Trainable params: 475,651\n",
            "Non-trainable params: 0\n",
            "_________________________________________________________________\n"
          ]
        }
      ]
    },
    {
      "cell_type": "code",
      "metadata": {
        "id": "7P8LMOAVAl3P",
        "colab": {
          "base_uri": "https://localhost:8080/"
        },
        "outputId": "97af985c-a36e-4616-baab-52dd0c0bf362"
      },
      "source": [
        "# model.compile(optimizer='adam', loss='mean_squared_error', metrics=['accuracy'])\n",
        "# epochs = 100\n",
        "# batch_size = 64\n",
        "# history = model.fit(X_train, y_train, validation_data=(X_val, y_val), epochs=epochs, batch_size=batch_size)\n",
        "model.compile(optimizer='adam', loss='mean_absolute_error', metrics=['mean_absolute_error'])\n",
        "epochs = 10\n",
        "batch_size = 32\n",
        "\n",
        "history = model.fit(X_train, y_train, validation_split=0.2, epochs=epochs, batch_size=batch_size)"
      ],
      "execution_count": 26,
      "outputs": [
        {
          "output_type": "stream",
          "name": "stdout",
          "text": [
            "Epoch 1/10\n",
            "7589/7589 [==============================] - 34s 4ms/step - loss: 15987.2754 - mean_absolute_error: 15987.2754 - val_loss: 16027.4297 - val_mean_absolute_error: 16027.4297\n",
            "Epoch 2/10\n",
            "7589/7589 [==============================] - 32s 4ms/step - loss: 15987.2559 - mean_absolute_error: 15987.2559 - val_loss: 16027.4297 - val_mean_absolute_error: 16027.4297\n",
            "Epoch 3/10\n",
            "7589/7589 [==============================] - 33s 4ms/step - loss: 15987.2686 - mean_absolute_error: 15987.2686 - val_loss: 16027.4297 - val_mean_absolute_error: 16027.4297\n",
            "Epoch 4/10\n",
            "7589/7589 [==============================] - 33s 4ms/step - loss: 15987.2305 - mean_absolute_error: 15987.2305 - val_loss: 16027.4297 - val_mean_absolute_error: 16027.4297\n",
            "Epoch 5/10\n",
            "7589/7589 [==============================] - 31s 4ms/step - loss: 15987.2910 - mean_absolute_error: 15987.2910 - val_loss: 16027.4297 - val_mean_absolute_error: 16027.4297\n",
            "Epoch 6/10\n",
            "7589/7589 [==============================] - 33s 4ms/step - loss: 15987.2188 - mean_absolute_error: 15987.2188 - val_loss: 16027.4297 - val_mean_absolute_error: 16027.4297\n",
            "Epoch 7/10\n",
            "7589/7589 [==============================] - 31s 4ms/step - loss: 15987.2236 - mean_absolute_error: 15987.2236 - val_loss: 16027.4297 - val_mean_absolute_error: 16027.4297\n",
            "Epoch 8/10\n",
            "7589/7589 [==============================] - 31s 4ms/step - loss: 15987.2539 - mean_absolute_error: 15987.2539 - val_loss: 16027.4297 - val_mean_absolute_error: 16027.4297\n",
            "Epoch 9/10\n",
            "7589/7589 [==============================] - 31s 4ms/step - loss: 15987.2754 - mean_absolute_error: 15987.2754 - val_loss: 16027.4297 - val_mean_absolute_error: 16027.4297\n",
            "Epoch 10/10\n",
            "7589/7589 [==============================] - 30s 4ms/step - loss: 15987.2754 - mean_absolute_error: 15987.2754 - val_loss: 16027.4297 - val_mean_absolute_error: 16027.4297\n"
          ]
        }
      ]
    },
    {
      "cell_type": "markdown",
      "metadata": {
        "id": "KlMRLOTUiT0c"
      },
      "source": [
        "## Evaluate Model on Test Data"
      ]
    },
    {
      "cell_type": "code",
      "metadata": {
        "id": "BSAx1gdvAl7_",
        "colab": {
          "base_uri": "https://localhost:8080/"
        },
        "outputId": "ee78c93f-e51e-424d-a62a-fa4b94d5014d"
      },
      "source": [
        "test_loss, test_acc = model.evaluate(X_test, y_test)\n",
        "\n",
        "print(\"Test accuracy\", test_acc)\n",
        "print(\"Test loss\", test_loss)"
      ],
      "execution_count": 27,
      "outputs": [
        {
          "output_type": "stream",
          "name": "stdout",
          "text": [
            "2635/2635 [==============================] - 7s 2ms/step - loss: 15908.1455 - mean_absolute_error: 15908.1455\n",
            "Test accuracy 15908.1455078125\n",
            "Test loss 15908.1455078125\n"
          ]
        }
      ]
    },
    {
      "cell_type": "code",
      "metadata": {
        "id": "9EdiM8aDAmAS"
      },
      "source": [
        "prediction = model.predict(X_test)\n",
        "# print(prediction)"
      ],
      "execution_count": 28,
      "outputs": []
    },
    {
      "cell_type": "markdown",
      "metadata": {
        "id": "-LF251Z2iT0d"
      },
      "source": [
        "## Plot the Model's Training and Validation loss"
      ]
    },
    {
      "cell_type": "code",
      "metadata": {
        "id": "lkLVJjPeH8am",
        "colab": {
          "base_uri": "https://localhost:8080/",
          "height": 293
        },
        "outputId": "6516c9d1-c7e9-4a13-e91d-5cb23260ed71"
      },
      "source": [
        "metric = \"mean_absolute_error\"\n",
        "plt.figure()\n",
        "plt.plot(history.history[metric])\n",
        "plt.plot(history.history[\"val_\" + metric])\n",
        "plt.title(\"model \" + metric)\n",
        "plt.ylabel(metric, fontsize=\"large\")\n",
        "plt.xlabel(\"epoch\", fontsize=\"large\")\n",
        "plt.legend([\"train\", \"val\"], loc=\"best\")\n",
        "plt.show()\n",
        "plt.close()"
      ],
      "execution_count": 30,
      "outputs": [
        {
          "output_type": "display_data",
          "data": {
            "image/png": "[encoded data removed]",
            "text/plain": [
              "<Figure size 432x288 with 1 Axes>"
            ]
          },
          "metadata": {
            "needs_background": "light"
          }
        }
      ]
    }
  ]
}