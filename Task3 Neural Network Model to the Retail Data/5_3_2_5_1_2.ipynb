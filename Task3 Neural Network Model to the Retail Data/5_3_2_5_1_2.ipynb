{
  "nbformat": 4,
  "nbformat_minor": 0,
  "metadata": {
    "accelerator": "GPU",
    "colab": {
      "name": "5_3_2_5.1.2",
      "provenance": [],
      "collapsed_sections": []
    },
    "kernelspec": {
      "display_name": "Python 3",
      "name": "python3"
    },
    "language_info": {
      "name": "python"
    }
  },
  "cells": [
    {
      "cell_type": "markdown",
      "metadata": {
        "id": "MWX3gdi6VzVB"
      },
      "source": [
        "# Source of Data Sets"
      ]
    },
    {
      "cell_type": "markdown",
      "metadata": {
        "id": "jHtznCD4DqG4"
      },
      "source": [
        "#### https://www.kaggle.com/c/rossmann-store-sales/data?select=train.csv"
      ]
    },
    {
      "cell_type": "markdown",
      "metadata": {
        "id": "gsa4DaJ2V6by"
      },
      "source": [
        "# Guide Packages"
      ]
    },
    {
      "cell_type": "code",
      "metadata": {
        "colab": {
          "base_uri": "https://localhost:8080/"
        },
        "id": "gDnqw7OLE3tf",
        "outputId": "fc75fd75-2624-4997-f6d7-5111d541e434"
      },
      "source": [
        "!pip install numpy pandas matplotlib seaborn --quiet\n",
        "import os\n",
        "import math\n",
        "import time\n",
        "import warnings\n",
        "warnings.filterwarnings('ignore')\n",
        "import numpy as np\n",
        "import pandas as pd\n",
        "import seaborn as sns\n",
        "import plotly.express as px\n",
        "import plotly.graph_objs as go\n",
        "import matplotlib.pyplot as plt\n",
        "%matplotlib inline\n",
        "plt.style.use('seaborn-whitegrid')\n",
        "\n",
        "\n",
        "from sklearn import metrics\n",
        "from tensorflow import keras\n",
        "from datetime import datetime\n",
        "from google.colab import drive\n",
        "from keras.models import Sequential\n",
        "from keras.layers import Dense, Dropout\n",
        "from sklearn.metrics import mean_squared_error\n",
        "from sklearn.preprocessing import MinMaxScaler\n",
        "from sklearn.preprocessing import LabelEncoder\n",
        "from sklearn.preprocessing import OneHotEncoder\n",
        "from sklearn.model_selection import train_test_split\n",
        "from sklearn.metrics import mean_squared_error, mean_absolute_error, r2_score\n",
        "\n",
        "!pip install pingouin\n",
        "import pingouin as pg\n",
        "\n",
        "#Models\n",
        "from sklearn.ensemble import RandomForestRegressor\n",
        "from sklearn.metrics import accuracy_score, f1_score,precision_score, recall_score\n",
        "from sklearn.metrics import roc_curve, confusion_matrix, roc_auc_score, precision_recall_curve"
      ],
      "execution_count": 1,
      "outputs": [
        {
          "output_type": "stream",
          "name": "stdout",
          "text": [
            "Requirement already satisfied: pingouin in /usr/local/lib/python3.7/dist-packages (0.5.0)\n",
            "Requirement already satisfied: statsmodels>=0.12.0 in /usr/local/lib/python3.7/dist-packages (from pingouin) (0.13.0)\n",
            "Requirement already satisfied: scipy>=1.7 in /usr/local/lib/python3.7/dist-packages (from pingouin) (1.7.2)\n",
            "Requirement already satisfied: outdated in /usr/local/lib/python3.7/dist-packages (from pingouin) (0.2.1)\n",
            "Requirement already satisfied: seaborn>=0.9.0 in /usr/local/lib/python3.7/dist-packages (from pingouin) (0.11.2)\n",
            "Requirement already satisfied: pandas-flavor>=0.2.0 in /usr/local/lib/python3.7/dist-packages (from pingouin) (0.2.0)\n",
            "Requirement already satisfied: pandas>=1.0 in /usr/local/lib/python3.7/dist-packages (from pingouin) (1.1.5)\n",
            "Requirement already satisfied: numpy>=1.19 in /usr/local/lib/python3.7/dist-packages (from pingouin) (1.19.5)\n",
            "Requirement already satisfied: scikit-learn in /usr/local/lib/python3.7/dist-packages (from pingouin) (0.22.2.post1)\n",
            "Requirement already satisfied: matplotlib>=3.0.2 in /usr/local/lib/python3.7/dist-packages (from pingouin) (3.2.2)\n",
            "Requirement already satisfied: tabulate in /usr/local/lib/python3.7/dist-packages (from pingouin) (0.8.9)\n",
            "Requirement already satisfied: kiwisolver>=1.0.1 in /usr/local/lib/python3.7/dist-packages (from matplotlib>=3.0.2->pingouin) (1.3.2)\n",
            "Requirement already satisfied: pyparsing!=2.0.4,!=2.1.2,!=2.1.6,>=2.0.1 in /usr/local/lib/python3.7/dist-packages (from matplotlib>=3.0.2->pingouin) (2.4.7)\n",
            "Requirement already satisfied: python-dateutil>=2.1 in /usr/local/lib/python3.7/dist-packages (from matplotlib>=3.0.2->pingouin) (2.8.2)\n",
            "Requirement already satisfied: cycler>=0.10 in /usr/local/lib/python3.7/dist-packages (from matplotlib>=3.0.2->pingouin) (0.10.0)\n",
            "Requirement already satisfied: six in /usr/local/lib/python3.7/dist-packages (from cycler>=0.10->matplotlib>=3.0.2->pingouin) (1.15.0)\n",
            "Requirement already satisfied: pytz>=2017.2 in /usr/local/lib/python3.7/dist-packages (from pandas>=1.0->pingouin) (2018.9)\n",
            "Requirement already satisfied: xarray in /usr/local/lib/python3.7/dist-packages (from pandas-flavor>=0.2.0->pingouin) (0.18.2)\n",
            "Requirement already satisfied: patsy>=0.5.2 in /usr/local/lib/python3.7/dist-packages (from statsmodels>=0.12.0->pingouin) (0.5.2)\n",
            "Requirement already satisfied: requests in /usr/local/lib/python3.7/dist-packages (from outdated->pingouin) (2.23.0)\n",
            "Requirement already satisfied: littleutils in /usr/local/lib/python3.7/dist-packages (from outdated->pingouin) (0.2.2)\n",
            "Requirement already satisfied: certifi>=2017.4.17 in /usr/local/lib/python3.7/dist-packages (from requests->outdated->pingouin) (2021.5.30)\n",
            "Requirement already satisfied: urllib3!=1.25.0,!=1.25.1,<1.26,>=1.21.1 in /usr/local/lib/python3.7/dist-packages (from requests->outdated->pingouin) (1.24.3)\n",
            "Requirement already satisfied: chardet<4,>=3.0.2 in /usr/local/lib/python3.7/dist-packages (from requests->outdated->pingouin) (3.0.4)\n",
            "Requirement already satisfied: idna<3,>=2.5 in /usr/local/lib/python3.7/dist-packages (from requests->outdated->pingouin) (2.10)\n",
            "Requirement already satisfied: joblib>=0.11 in /usr/local/lib/python3.7/dist-packages (from scikit-learn->pingouin) (1.0.1)\n",
            "Requirement already satisfied: setuptools>=40.4 in /usr/local/lib/python3.7/dist-packages (from xarray->pandas-flavor>=0.2.0->pingouin) (57.4.0)\n"
          ]
        }
      ]
    },
    {
      "cell_type": "markdown",
      "metadata": {
        "id": "KWzq-wblJRpy"
      },
      "source": [
        "# Input Dataset\n"
      ]
    },
    {
      "cell_type": "code",
      "metadata": {
        "colab": {
          "base_uri": "https://localhost:8080/"
        },
        "id": "N8fEFDPwE8VQ",
        "outputId": "88f48daa-00a2-4912-9338-19ddafbf3351"
      },
      "source": [
        "drive.mount('/content/drive')\n",
        "os.chdir(\"/content/drive/MyDrive/task-in/Task5/Task5-2\")"
      ],
      "execution_count": 2,
      "outputs": [
        {
          "output_type": "stream",
          "name": "stdout",
          "text": [
            "Drive already mounted at /content/drive; to attempt to forcibly remount, call drive.mount(\"/content/drive\", force_remount=True).\n"
          ]
        }
      ]
    },
    {
      "cell_type": "code",
      "metadata": {
        "id": "xZWh0R91E8YI"
      },
      "source": [
        "sample_submission = pd.read_csv('/content/drive/MyDrive/task-in/Task5/Task5-2/sample_submission.csv')\n",
        "store = pd.read_csv('/content/drive/MyDrive/task-in/Task5/Task5-2/store.csv')\n",
        "train = pd.read_csv('/content/drive/MyDrive/task-in/Task5/Task5-2/train.csv')\n",
        "test = pd.read_csv('/content/drive/MyDrive/task-in/Task5/Task5-2/test.csv')"
      ],
      "execution_count": 3,
      "outputs": []
    },
    {
      "cell_type": "code",
      "metadata": {
        "colab": {
          "base_uri": "https://localhost:8080/"
        },
        "id": "A6KGK02EE8a_",
        "outputId": "c9c98927-2fbf-4167-dfa5-32fbc31c9274"
      },
      "source": [
        "print(store.info())\n",
        "print('\\n')\n",
        "print(train.info())\n",
        "print('\\n')\n",
        "print(test.info())\n",
        "print('\\n')\n",
        "print(sample_submission.info())"
      ],
      "execution_count": 4,
      "outputs": [
        {
          "output_type": "stream",
          "name": "stdout",
          "text": [
            "<class 'pandas.core.frame.DataFrame'>\n",
            "RangeIndex: 1115 entries, 0 to 1114\n",
            "Data columns (total 10 columns):\n",
            " #   Column                     Non-Null Count  Dtype  \n",
            "---  ------                     --------------  -----  \n",
            " 0   Store                      1115 non-null   int64  \n",
            " 1   StoreType                  1115 non-null   object \n",
            " 2   Assortment                 1115 non-null   object \n",
            " 3   CompetitionDistance        1112 non-null   float64\n",
            " 4   CompetitionOpenSinceMonth  761 non-null    float64\n",
            " 5   CompetitionOpenSinceYear   761 non-null    float64\n",
            " 6   Promo2                     1115 non-null   int64  \n",
            " 7   Promo2SinceWeek            571 non-null    float64\n",
            " 8   Promo2SinceYear            571 non-null    float64\n",
            " 9   PromoInterval              571 non-null    object \n",
            "dtypes: float64(5), int64(2), object(3)\n",
            "memory usage: 87.2+ KB\n",
            "None\n",
            "\n",
            "\n",
            "<class 'pandas.core.frame.DataFrame'>\n",
            "RangeIndex: 1017209 entries, 0 to 1017208\n",
            "Data columns (total 9 columns):\n",
            " #   Column         Non-Null Count    Dtype \n",
            "---  ------         --------------    ----- \n",
            " 0   Store          1017209 non-null  int64 \n",
            " 1   DayOfWeek      1017209 non-null  int64 \n",
            " 2   Date           1017209 non-null  object\n",
            " 3   Sales          1017209 non-null  int64 \n",
            " 4   Customers      1017209 non-null  int64 \n",
            " 5   Open           1017209 non-null  int64 \n",
            " 6   Promo          1017209 non-null  int64 \n",
            " 7   StateHoliday   1017209 non-null  object\n",
            " 8   SchoolHoliday  1017209 non-null  int64 \n",
            "dtypes: int64(7), object(2)\n",
            "memory usage: 69.8+ MB\n",
            "None\n",
            "\n",
            "\n",
            "<class 'pandas.core.frame.DataFrame'>\n",
            "RangeIndex: 41088 entries, 0 to 41087\n",
            "Data columns (total 8 columns):\n",
            " #   Column         Non-Null Count  Dtype  \n",
            "---  ------         --------------  -----  \n",
            " 0   Id             41088 non-null  int64  \n",
            " 1   Store          41088 non-null  int64  \n",
            " 2   DayOfWeek      41088 non-null  int64  \n",
            " 3   Date           41088 non-null  object \n",
            " 4   Open           41077 non-null  float64\n",
            " 5   Promo          41088 non-null  int64  \n",
            " 6   StateHoliday   41088 non-null  object \n",
            " 7   SchoolHoliday  41088 non-null  int64  \n",
            "dtypes: float64(1), int64(5), object(2)\n",
            "memory usage: 2.5+ MB\n",
            "None\n",
            "\n",
            "\n",
            "<class 'pandas.core.frame.DataFrame'>\n",
            "RangeIndex: 41088 entries, 0 to 41087\n",
            "Data columns (total 2 columns):\n",
            " #   Column  Non-Null Count  Dtype\n",
            "---  ------  --------------  -----\n",
            " 0   Id      41088 non-null  int64\n",
            " 1   Sales   41088 non-null  int64\n",
            "dtypes: int64(2)\n",
            "memory usage: 642.1 KB\n",
            "None\n"
          ]
        }
      ]
    },
    {
      "cell_type": "code",
      "metadata": {
        "colab": {
          "base_uri": "https://localhost:8080/",
          "height": 142
        },
        "id": "olcTNqaXSzac",
        "outputId": "18afb26c-da72-4173-cfd3-f4302d59b0b1"
      },
      "source": [
        "store.head(3)"
      ],
      "execution_count": 5,
      "outputs": [
        {
          "output_type": "execute_result",
          "data": {
            "text/html": [
              "<div>\n",
              "<style scoped>\n",
              "    .dataframe tbody tr th:only-of-type {\n",
              "        vertical-align: middle;\n",
              "    }\n",
              "\n",
              "    .dataframe tbody tr th {\n",
              "        vertical-align: top;\n",
              "    }\n",
              "\n",
              "    .dataframe thead th {\n",
              "        text-align: right;\n",
              "    }\n",
              "</style>\n",
              "<table border=\"1\" class=\"dataframe\">\n",
              "  <thead>\n",
              "    <tr style=\"text-align: right;\">\n",
              "      <th></th>\n",
              "      <th>Store</th>\n",
              "      <th>StoreType</th>\n",
              "      <th>Assortment</th>\n",
              "      <th>CompetitionDistance</th>\n",
              "      <th>CompetitionOpenSinceMonth</th>\n",
              "      <th>CompetitionOpenSinceYear</th>\n",
              "      <th>Promo2</th>\n",
              "      <th>Promo2SinceWeek</th>\n",
              "      <th>Promo2SinceYear</th>\n",
              "      <th>PromoInterval</th>\n",
              "    </tr>\n",
              "  </thead>\n",
              "  <tbody>\n",
              "    <tr>\n",
              "      <th>0</th>\n",
              "      <td>1</td>\n",
              "      <td>c</td>\n",
              "      <td>a</td>\n",
              "      <td>1270.0</td>\n",
              "      <td>9.0</td>\n",
              "      <td>2008.0</td>\n",
              "      <td>0</td>\n",
              "      <td>NaN</td>\n",
              "      <td>NaN</td>\n",
              "      <td>NaN</td>\n",
              "    </tr>\n",
              "    <tr>\n",
              "      <th>1</th>\n",
              "      <td>2</td>\n",
              "      <td>a</td>\n",
              "      <td>a</td>\n",
              "      <td>570.0</td>\n",
              "      <td>11.0</td>\n",
              "      <td>2007.0</td>\n",
              "      <td>1</td>\n",
              "      <td>13.0</td>\n",
              "      <td>2010.0</td>\n",
              "      <td>Jan,Apr,Jul,Oct</td>\n",
              "    </tr>\n",
              "    <tr>\n",
              "      <th>2</th>\n",
              "      <td>3</td>\n",
              "      <td>a</td>\n",
              "      <td>a</td>\n",
              "      <td>14130.0</td>\n",
              "      <td>12.0</td>\n",
              "      <td>2006.0</td>\n",
              "      <td>1</td>\n",
              "      <td>14.0</td>\n",
              "      <td>2011.0</td>\n",
              "      <td>Jan,Apr,Jul,Oct</td>\n",
              "    </tr>\n",
              "  </tbody>\n",
              "</table>\n",
              "</div>"
            ],
            "text/plain": [
              "   Store StoreType  ... Promo2SinceYear    PromoInterval\n",
              "0      1         c  ...             NaN              NaN\n",
              "1      2         a  ...          2010.0  Jan,Apr,Jul,Oct\n",
              "2      3         a  ...          2011.0  Jan,Apr,Jul,Oct\n",
              "\n",
              "[3 rows x 10 columns]"
            ]
          },
          "metadata": {},
          "execution_count": 5
        }
      ]
    },
    {
      "cell_type": "code",
      "metadata": {
        "colab": {
          "base_uri": "https://localhost:8080/",
          "height": 142
        },
        "id": "WoH_AGgaE8dY",
        "outputId": "cdbade52-b7d1-4087-dd4e-9205324df719"
      },
      "source": [
        "sample_submission.head(3)"
      ],
      "execution_count": 6,
      "outputs": [
        {
          "output_type": "execute_result",
          "data": {
            "text/html": [
              "<div>\n",
              "<style scoped>\n",
              "    .dataframe tbody tr th:only-of-type {\n",
              "        vertical-align: middle;\n",
              "    }\n",
              "\n",
              "    .dataframe tbody tr th {\n",
              "        vertical-align: top;\n",
              "    }\n",
              "\n",
              "    .dataframe thead th {\n",
              "        text-align: right;\n",
              "    }\n",
              "</style>\n",
              "<table border=\"1\" class=\"dataframe\">\n",
              "  <thead>\n",
              "    <tr style=\"text-align: right;\">\n",
              "      <th></th>\n",
              "      <th>Id</th>\n",
              "      <th>Sales</th>\n",
              "    </tr>\n",
              "  </thead>\n",
              "  <tbody>\n",
              "    <tr>\n",
              "      <th>0</th>\n",
              "      <td>1</td>\n",
              "      <td>0</td>\n",
              "    </tr>\n",
              "    <tr>\n",
              "      <th>1</th>\n",
              "      <td>2</td>\n",
              "      <td>0</td>\n",
              "    </tr>\n",
              "    <tr>\n",
              "      <th>2</th>\n",
              "      <td>3</td>\n",
              "      <td>0</td>\n",
              "    </tr>\n",
              "  </tbody>\n",
              "</table>\n",
              "</div>"
            ],
            "text/plain": [
              "   Id  Sales\n",
              "0   1      0\n",
              "1   2      0\n",
              "2   3      0"
            ]
          },
          "metadata": {},
          "execution_count": 6
        }
      ]
    },
    {
      "cell_type": "code",
      "metadata": {
        "colab": {
          "base_uri": "https://localhost:8080/",
          "height": 142
        },
        "id": "uMILBlc6E8gP",
        "outputId": "4b7bf93c-e32e-47a5-df49-523b5548a65c"
      },
      "source": [
        "train.head(3)"
      ],
      "execution_count": 7,
      "outputs": [
        {
          "output_type": "execute_result",
          "data": {
            "text/html": [
              "<div>\n",
              "<style scoped>\n",
              "    .dataframe tbody tr th:only-of-type {\n",
              "        vertical-align: middle;\n",
              "    }\n",
              "\n",
              "    .dataframe tbody tr th {\n",
              "        vertical-align: top;\n",
              "    }\n",
              "\n",
              "    .dataframe thead th {\n",
              "        text-align: right;\n",
              "    }\n",
              "</style>\n",
              "<table border=\"1\" class=\"dataframe\">\n",
              "  <thead>\n",
              "    <tr style=\"text-align: right;\">\n",
              "      <th></th>\n",
              "      <th>Store</th>\n",
              "      <th>DayOfWeek</th>\n",
              "      <th>Date</th>\n",
              "      <th>Sales</th>\n",
              "      <th>Customers</th>\n",
              "      <th>Open</th>\n",
              "      <th>Promo</th>\n",
              "      <th>StateHoliday</th>\n",
              "      <th>SchoolHoliday</th>\n",
              "    </tr>\n",
              "  </thead>\n",
              "  <tbody>\n",
              "    <tr>\n",
              "      <th>0</th>\n",
              "      <td>1</td>\n",
              "      <td>5</td>\n",
              "      <td>2015-07-31</td>\n",
              "      <td>5263</td>\n",
              "      <td>555</td>\n",
              "      <td>1</td>\n",
              "      <td>1</td>\n",
              "      <td>0</td>\n",
              "      <td>1</td>\n",
              "    </tr>\n",
              "    <tr>\n",
              "      <th>1</th>\n",
              "      <td>2</td>\n",
              "      <td>5</td>\n",
              "      <td>2015-07-31</td>\n",
              "      <td>6064</td>\n",
              "      <td>625</td>\n",
              "      <td>1</td>\n",
              "      <td>1</td>\n",
              "      <td>0</td>\n",
              "      <td>1</td>\n",
              "    </tr>\n",
              "    <tr>\n",
              "      <th>2</th>\n",
              "      <td>3</td>\n",
              "      <td>5</td>\n",
              "      <td>2015-07-31</td>\n",
              "      <td>8314</td>\n",
              "      <td>821</td>\n",
              "      <td>1</td>\n",
              "      <td>1</td>\n",
              "      <td>0</td>\n",
              "      <td>1</td>\n",
              "    </tr>\n",
              "  </tbody>\n",
              "</table>\n",
              "</div>"
            ],
            "text/plain": [
              "   Store  DayOfWeek        Date  Sales  ...  Open  Promo  StateHoliday SchoolHoliday\n",
              "0      1          5  2015-07-31   5263  ...     1      1             0             1\n",
              "1      2          5  2015-07-31   6064  ...     1      1             0             1\n",
              "2      3          5  2015-07-31   8314  ...     1      1             0             1\n",
              "\n",
              "[3 rows x 9 columns]"
            ]
          },
          "metadata": {},
          "execution_count": 7
        }
      ]
    },
    {
      "cell_type": "code",
      "metadata": {
        "colab": {
          "base_uri": "https://localhost:8080/",
          "height": 142
        },
        "id": "eP6lD13SE8jB",
        "outputId": "bd12d92f-e4d3-481b-db49-2550da49e880"
      },
      "source": [
        "test.head(3)"
      ],
      "execution_count": 8,
      "outputs": [
        {
          "output_type": "execute_result",
          "data": {
            "text/html": [
              "<div>\n",
              "<style scoped>\n",
              "    .dataframe tbody tr th:only-of-type {\n",
              "        vertical-align: middle;\n",
              "    }\n",
              "\n",
              "    .dataframe tbody tr th {\n",
              "        vertical-align: top;\n",
              "    }\n",
              "\n",
              "    .dataframe thead th {\n",
              "        text-align: right;\n",
              "    }\n",
              "</style>\n",
              "<table border=\"1\" class=\"dataframe\">\n",
              "  <thead>\n",
              "    <tr style=\"text-align: right;\">\n",
              "      <th></th>\n",
              "      <th>Id</th>\n",
              "      <th>Store</th>\n",
              "      <th>DayOfWeek</th>\n",
              "      <th>Date</th>\n",
              "      <th>Open</th>\n",
              "      <th>Promo</th>\n",
              "      <th>StateHoliday</th>\n",
              "      <th>SchoolHoliday</th>\n",
              "    </tr>\n",
              "  </thead>\n",
              "  <tbody>\n",
              "    <tr>\n",
              "      <th>0</th>\n",
              "      <td>1</td>\n",
              "      <td>1</td>\n",
              "      <td>4</td>\n",
              "      <td>2015-09-17</td>\n",
              "      <td>1.0</td>\n",
              "      <td>1</td>\n",
              "      <td>0</td>\n",
              "      <td>0</td>\n",
              "    </tr>\n",
              "    <tr>\n",
              "      <th>1</th>\n",
              "      <td>2</td>\n",
              "      <td>3</td>\n",
              "      <td>4</td>\n",
              "      <td>2015-09-17</td>\n",
              "      <td>1.0</td>\n",
              "      <td>1</td>\n",
              "      <td>0</td>\n",
              "      <td>0</td>\n",
              "    </tr>\n",
              "    <tr>\n",
              "      <th>2</th>\n",
              "      <td>3</td>\n",
              "      <td>7</td>\n",
              "      <td>4</td>\n",
              "      <td>2015-09-17</td>\n",
              "      <td>1.0</td>\n",
              "      <td>1</td>\n",
              "      <td>0</td>\n",
              "      <td>0</td>\n",
              "    </tr>\n",
              "  </tbody>\n",
              "</table>\n",
              "</div>"
            ],
            "text/plain": [
              "   Id  Store  DayOfWeek        Date  Open  Promo StateHoliday  SchoolHoliday\n",
              "0   1      1          4  2015-09-17   1.0      1            0              0\n",
              "1   2      3          4  2015-09-17   1.0      1            0              0\n",
              "2   3      7          4  2015-09-17   1.0      1            0              0"
            ]
          },
          "metadata": {},
          "execution_count": 8
        }
      ]
    },
    {
      "cell_type": "code",
      "metadata": {
        "id": "a8f3LawhE8oA"
      },
      "source": [
        "# print(store.isnull().sum())\n",
        "# print('\\n')\n",
        "# print(test.isnull().sum())\n",
        "# print('\\n')\n",
        "# print(sample_submission.isnull().sum())\n",
        "# print('\\n')\n",
        "# print(train.isnull().sum())"
      ],
      "execution_count": 9,
      "outputs": []
    },
    {
      "cell_type": "code",
      "metadata": {
        "colab": {
          "base_uri": "https://localhost:8080/"
        },
        "id": "hr8uvNsqSaNb",
        "outputId": "1f2be5da-18bc-4da2-d683-8f98410b9393"
      },
      "source": [
        "print(\"store.shape\", store.shape)\n",
        "print(\"train.shape\", train.shape)\n",
        "print(\"test.shape\", test.shape)\n",
        "print(\"sample_submission.shape\", sample_submission.shape)"
      ],
      "execution_count": 10,
      "outputs": [
        {
          "output_type": "stream",
          "name": "stdout",
          "text": [
            "store.shape (1115, 10)\n",
            "train.shape (1017209, 9)\n",
            "test.shape (41088, 8)\n",
            "sample_submission.shape (41088, 2)\n"
          ]
        }
      ]
    },
    {
      "cell_type": "markdown",
      "metadata": {
        "id": "yAdIRQQcE8qo"
      },
      "source": [
        "# Merging Data Sets\n"
      ]
    },
    {
      "cell_type": "code",
      "metadata": {
        "colab": {
          "base_uri": "https://localhost:8080/"
        },
        "id": "YMoMHE5fi0G8",
        "outputId": "6baffb9d-6ed2-4849-a301-776f42bc64bb"
      },
      "source": [
        "# Merge the information from store_df into train_df and test_df.\n",
        "#how='inner'\n",
        "train_df = train.merge(store, how='left', on='Store')  \n",
        "test_df = test.merge(store, how='left', on='Store')\n",
        "print(\"The number of rows and columns is:\",(train_df.shape))\n",
        "print(\"The number of rows and columns is: \",(test_df.shape))"
      ],
      "execution_count": 11,
      "outputs": [
        {
          "output_type": "stream",
          "name": "stdout",
          "text": [
            "The number of rows and columns is: (1017209, 18)\n",
            "The number of rows and columns is:  (41088, 17)\n"
          ]
        }
      ]
    },
    {
      "cell_type": "code",
      "metadata": {
        "colab": {
          "base_uri": "https://localhost:8080/"
        },
        "id": "KEVuXm3ujap4",
        "outputId": "dddda0db-1dc4-4d3f-f2c5-1fa89420d604"
      },
      "source": [
        "train_df.info()"
      ],
      "execution_count": 12,
      "outputs": [
        {
          "output_type": "stream",
          "name": "stdout",
          "text": [
            "<class 'pandas.core.frame.DataFrame'>\n",
            "Int64Index: 1017209 entries, 0 to 1017208\n",
            "Data columns (total 18 columns):\n",
            " #   Column                     Non-Null Count    Dtype  \n",
            "---  ------                     --------------    -----  \n",
            " 0   Store                      1017209 non-null  int64  \n",
            " 1   DayOfWeek                  1017209 non-null  int64  \n",
            " 2   Date                       1017209 non-null  object \n",
            " 3   Sales                      1017209 non-null  int64  \n",
            " 4   Customers                  1017209 non-null  int64  \n",
            " 5   Open                       1017209 non-null  int64  \n",
            " 6   Promo                      1017209 non-null  int64  \n",
            " 7   StateHoliday               1017209 non-null  object \n",
            " 8   SchoolHoliday              1017209 non-null  int64  \n",
            " 9   StoreType                  1017209 non-null  object \n",
            " 10  Assortment                 1017209 non-null  object \n",
            " 11  CompetitionDistance        1014567 non-null  float64\n",
            " 12  CompetitionOpenSinceMonth  693861 non-null   float64\n",
            " 13  CompetitionOpenSinceYear   693861 non-null   float64\n",
            " 14  Promo2                     1017209 non-null  int64  \n",
            " 15  Promo2SinceWeek            509178 non-null   float64\n",
            " 16  Promo2SinceYear            509178 non-null   float64\n",
            " 17  PromoInterval              509178 non-null   object \n",
            "dtypes: float64(5), int64(8), object(5)\n",
            "memory usage: 147.5+ MB\n"
          ]
        }
      ]
    },
    {
      "cell_type": "markdown",
      "metadata": {
        "id": "bmxf2yBdjxat"
      },
      "source": [
        "# Preprocessing "
      ]
    },
    {
      "cell_type": "markdown",
      "metadata": {
        "id": "TAuBh32pE9Ef"
      },
      "source": [
        "# Convert \"Date\" Column to Datetime Format"
      ]
    },
    {
      "cell_type": "code",
      "metadata": {
        "id": "R3VfP9m9E9G3"
      },
      "source": [
        "# train_df['Date'] = pd.to_datetime(train_df['Date'])\n",
        "# train_df['Day'] = train_df['Date'].dt.day\n",
        "def split_date(df, date):\n",
        "  df['dt_ref'] = pd.to_datetime(df[date])\n",
        "  df['year'] = df.dt_ref.dt.year\n",
        "  df['month'] = df.dt_ref.dt.month\n",
        "  df['day'] = df.dt_ref.dt.day\n",
        "  df['week_of_year'] = df.dt_ref.dt.isocalendar().week\n",
        "  df['period_month'] = df.dt_ref.dt.to_period('M')   #?"
      ],
      "execution_count": 13,
      "outputs": []
    },
    {
      "cell_type": "code",
      "metadata": {
        "colab": {
          "base_uri": "https://localhost:8080/"
        },
        "id": "FfdlevrDkJdc",
        "outputId": "63852ba9-ff18-48f3-d841-7e6241e33724"
      },
      "source": [
        "train_df.info()"
      ],
      "execution_count": 14,
      "outputs": [
        {
          "output_type": "stream",
          "name": "stdout",
          "text": [
            "<class 'pandas.core.frame.DataFrame'>\n",
            "Int64Index: 1017209 entries, 0 to 1017208\n",
            "Data columns (total 18 columns):\n",
            " #   Column                     Non-Null Count    Dtype  \n",
            "---  ------                     --------------    -----  \n",
            " 0   Store                      1017209 non-null  int64  \n",
            " 1   DayOfWeek                  1017209 non-null  int64  \n",
            " 2   Date                       1017209 non-null  object \n",
            " 3   Sales                      1017209 non-null  int64  \n",
            " 4   Customers                  1017209 non-null  int64  \n",
            " 5   Open                       1017209 non-null  int64  \n",
            " 6   Promo                      1017209 non-null  int64  \n",
            " 7   StateHoliday               1017209 non-null  object \n",
            " 8   SchoolHoliday              1017209 non-null  int64  \n",
            " 9   StoreType                  1017209 non-null  object \n",
            " 10  Assortment                 1017209 non-null  object \n",
            " 11  CompetitionDistance        1014567 non-null  float64\n",
            " 12  CompetitionOpenSinceMonth  693861 non-null   float64\n",
            " 13  CompetitionOpenSinceYear   693861 non-null   float64\n",
            " 14  Promo2                     1017209 non-null  int64  \n",
            " 15  Promo2SinceWeek            509178 non-null   float64\n",
            " 16  Promo2SinceYear            509178 non-null   float64\n",
            " 17  PromoInterval              509178 non-null   object \n",
            "dtypes: float64(5), int64(8), object(5)\n",
            "memory usage: 147.5+ MB\n"
          ]
        }
      ]
    },
    {
      "cell_type": "code",
      "metadata": {
        "colab": {
          "base_uri": "https://localhost:8080/",
          "height": 817
        },
        "id": "7NUuXOwxE9JR",
        "outputId": "ab3f0d83-05f3-4aa6-c71d-fa4f7565bb86"
      },
      "source": [
        "# IsHoliday - whether the week is a special holiday week\n",
        "# Boxplt: distribution of observation data\n",
        "'''\n",
        "A boxplot contains six main data nodes, which arrange a set of data from largest to smallest.\n",
        "And calculate his upper edge (upper limit), upper quartile Q3, median, lower quartile Q1, lower edge(lower limit).\n",
        "And an outlier respectively.\n",
        "'''\n",
        "split_date(train_df, 'Date')\n",
        "split_date(test_df, 'Date')\n",
        "\n",
        "plt.figure(figsize = (25,6))\n",
        "plt.title ('Monthly sales colume as a function of holidays')\n",
        "fig = sns.boxplot(x = 'month'\n",
        "                  ,y = 'Sales'\n",
        "                  ,data = train_df[['month','Sales','StateHoliday']]\n",
        "                  ,showfliers = False\n",
        "                  ,hue = 'StateHoliday')\n",
        "print('\\n')\n",
        "plt.figure(figsize = (25,6))\n",
        "plt.title ('Monthly sales colume as a function of holidays')\n",
        "fig = sns.boxplot(x = 'month'\n",
        "                  ,y = 'Sales'\n",
        "                  ,data = train_df[['month','Sales','SchoolHoliday']]\n",
        "                  ,showfliers = False\n",
        "                  ,hue = 'SchoolHoliday')"
      ],
      "execution_count": 15,
      "outputs": [
        {
          "output_type": "stream",
          "name": "stdout",
          "text": [
            "\n",
            "\n"
          ]
        },
        {
          "output_type": "display_data",
          "data": {
            "image/png": "[encoded data removed]",
            "text/plain": [
              "<Figure size 1800x432 with 1 Axes>"
            ]
          },
          "metadata": {
            "needs_background": "light"
          }
        },
        {
          "output_type": "display_data",
          "data": {
            "image/png": "[encoded data removed]",
            "text/plain": [
              "<Figure size 1800x432 with 1 Axes>"
            ]
          },
          "metadata": {
            "needs_background": "light"
          }
        }
      ]
    },
    {
      "cell_type": "markdown",
      "metadata": {
        "id": "8OxcVG8Ca96U"
      },
      "source": [
        "### We can investigate the variation in sales between shops and the extent to which holidays affect sales in each shop"
      ]
    },
    {
      "cell_type": "code",
      "metadata": {
        "colab": {
          "base_uri": "https://localhost:8080/",
          "height": 817
        },
        "id": "Wn-U9jnra9b2",
        "outputId": "b0017576-d960-4cf4-bca8-4f0ce7c60fd2"
      },
      "source": [
        "plt.figure(figsize = (25,6))\n",
        "plt.title ('Monthly sales colume as a function of holidays')\n",
        "fig = sns.boxplot(x = 'Store'\n",
        "                  ,y = 'Sales'\n",
        "                  ,data = train_df[['Store','Sales','StateHoliday']]\n",
        "                  ,showfliers = False\n",
        "                  ,hue = 'StateHoliday')\n",
        "print('\\n')\n",
        "plt.figure(figsize = (25,6))\n",
        "plt.title ('Monthly sales colume as a function of holidays')\n",
        "fig = sns.boxplot(x = 'Store'\n",
        "                  ,y = 'Sales'\n",
        "                  ,data = train_df[['Store','Sales','SchoolHoliday']]\n",
        "                  ,showfliers = False\n",
        "                  ,hue = 'SchoolHoliday')"
      ],
      "execution_count": 16,
      "outputs": [
        {
          "output_type": "stream",
          "name": "stdout",
          "text": [
            "\n",
            "\n"
          ]
        },
        {
          "output_type": "display_data",
          "data": {
            "image/png": "[encoded data removed]",
            "text/plain": [
              "<Figure size 1800x432 with 1 Axes>"
            ]
          },
          "metadata": {
            "needs_background": "light"
          }
        },
        {
          "output_type": "display_data",
          "data": {
            "image/png": "[encoded data removed]",
            "text/plain": [
              "<Figure size 1800x432 with 1 Axes>"
            ]
          },
          "metadata": {
            "needs_background": "light"
          }
        }
      ]
    },
    {
      "cell_type": "code",
      "metadata": {
        "colab": {
          "base_uri": "https://localhost:8080/"
        },
        "id": "mQ7ao0oucKjU",
        "outputId": "f88b93fe-60b7-4f59-a9ef-7eb7f7030d38"
      },
      "source": [
        "# Missing values\n",
        "#train_df.isna().sum()\n",
        "print(train_df.isnull().sum())\n",
        "print('\\n')\n",
        "print(test_df.isnull().sum())"
      ],
      "execution_count": 17,
      "outputs": [
        {
          "output_type": "stream",
          "name": "stdout",
          "text": [
            "Store                             0\n",
            "DayOfWeek                         0\n",
            "Date                              0\n",
            "Sales                             0\n",
            "Customers                         0\n",
            "Open                              0\n",
            "Promo                             0\n",
            "StateHoliday                      0\n",
            "SchoolHoliday                     0\n",
            "StoreType                         0\n",
            "Assortment                        0\n",
            "CompetitionDistance            2642\n",
            "CompetitionOpenSinceMonth    323348\n",
            "CompetitionOpenSinceYear     323348\n",
            "Promo2                            0\n",
            "Promo2SinceWeek              508031\n",
            "Promo2SinceYear              508031\n",
            "PromoInterval                508031\n",
            "dt_ref                            0\n",
            "year                              0\n",
            "month                             0\n",
            "day                               0\n",
            "week_of_year                      0\n",
            "period_month                      0\n",
            "dtype: int64\n",
            "\n",
            "\n",
            "Id                               0\n",
            "Store                            0\n",
            "DayOfWeek                        0\n",
            "Date                             0\n",
            "Open                            11\n",
            "Promo                            0\n",
            "StateHoliday                     0\n",
            "SchoolHoliday                    0\n",
            "StoreType                        0\n",
            "Assortment                       0\n",
            "CompetitionDistance             96\n",
            "CompetitionOpenSinceMonth    15216\n",
            "CompetitionOpenSinceYear     15216\n",
            "Promo2                           0\n",
            "Promo2SinceWeek              17232\n",
            "Promo2SinceYear              17232\n",
            "PromoInterval                17232\n",
            "dt_ref                           0\n",
            "year                             0\n",
            "month                            0\n",
            "day                              0\n",
            "week_of_year                     0\n",
            "period_month                     0\n",
            "dtype: int64\n"
          ]
        }
      ]
    },
    {
      "cell_type": "markdown",
      "metadata": {
        "id": "bnuveb1Umc3f"
      },
      "source": [
        "## Open/Closed"
      ]
    },
    {
      "cell_type": "code",
      "metadata": {
        "colab": {
          "base_uri": "https://localhost:8080/"
        },
        "id": "iSQO3bXWmU9q",
        "outputId": "14fd4188-e9cf-4d14-a96f-d5a048c2193c"
      },
      "source": [
        "train_df[train_df.Open == 0].Sales.value_counts()"
      ],
      "execution_count": 18,
      "outputs": [
        {
          "output_type": "execute_result",
          "data": {
            "text/plain": [
              "0    172817\n",
              "Name: Sales, dtype: int64"
            ]
          },
          "metadata": {},
          "execution_count": 18
        }
      ]
    },
    {
      "cell_type": "code",
      "metadata": {
        "id": "Big7fo0dmVHx"
      },
      "source": [
        "Train_Open_df = train_df[train_df.Open == 1].copy()"
      ],
      "execution_count": 19,
      "outputs": []
    },
    {
      "cell_type": "code",
      "metadata": {
        "id": "Un6VQXMqmVNh"
      },
      "source": [
        "def comp_months(df):\n",
        "    df['CompetitionOpen'] = 12 * (df.year - df.CompetitionOpenSinceYear) + (df.month - df.CompetitionOpenSinceMonth)\n",
        "    df['CompetitionOpen'] = df['CompetitionOpen'].map(lambda x: 0 if x < 0 else x).fillna(0)"
      ],
      "execution_count": 20,
      "outputs": []
    },
    {
      "cell_type": "code",
      "metadata": {
        "id": "gcred0tJmVSV"
      },
      "source": [
        "comp_months(Train_Open_df)\n",
        "comp_months(test_df)"
      ],
      "execution_count": 21,
      "outputs": []
    },
    {
      "cell_type": "markdown",
      "metadata": {
        "id": "ulhrDo_xoUo_"
      },
      "source": [
        "### Additional Promotion"
      ]
    },
    {
      "cell_type": "code",
      "metadata": {
        "id": "GkS3sR-FoWvE"
      },
      "source": [
        "def check_promo_month(row):\n",
        "    month2str = {1:'Jan', 2:'Feb', 3:'Mar', 4:'Apr', 5:'May', 6:'Jun',              \n",
        "                 7:'Jul', 8:'Aug', 9:'Sept', 10:'Oct', 11:'Nov', 12:'Dec'}\n",
        "    try:\n",
        "        months = (row['PromoInterval'] or '').split(',')\n",
        "        if row['Promo2Open'] and month2str[row['Month']] in months:\n",
        "            return 1\n",
        "        else:\n",
        "            return 0\n",
        "    except Exception:\n",
        "        return 0\n",
        "\n",
        "def promo_cols(df):\n",
        "    # Months since Promo2 was open\n",
        "    df['Promo2Open'] = 12 * (df.year - df.Promo2SinceYear) +  (df.week_of_year  - df.Promo2SinceWeek)*7/30.5\n",
        "    df['Promo2Open'] = df['Promo2Open'].map(lambda x: 0 if x < 0 else x).fillna(0) * df['Promo2']\n",
        "    # Whether a new round of promotions was started in the current month\n",
        "    df['IsPromo2Month'] = df.apply(check_promo_month, axis=1) * df['Promo2']"
      ],
      "execution_count": 23,
      "outputs": []
    },
    {
      "cell_type": "code",
      "metadata": {
        "id": "qVXFbX3eoYlE"
      },
      "source": [
        "promo_cols(Train_Open_df)\n",
        "promo_cols(test_df)"
      ],
      "execution_count": 24,
      "outputs": []
    },
    {
      "cell_type": "code",
      "metadata": {
        "colab": {
          "base_uri": "https://localhost:8080/"
        },
        "id": "axODYXkNrOb-",
        "outputId": "a7589eb5-ebb3-4bd1-a94a-cb62e788ce2b"
      },
      "source": [
        "# Missing values in 'train_df' and 'test_df' are filled in with '0' values\n",
        "# However, in 'test_df' and 'train_df, CompetitionDistance are filled in with averages\n",
        "# train_df,test_df\n",
        "\n",
        "train_df['CompetitionDistance'].fillna(train_df['CompetitionDistance'].mean(),inplace = True)\n",
        "test_df['CompetitionDistance'].fillna(test_df['CompetitionDistance'].mean(),inplace = True)\n",
        "train_df.fillna(0, inplace = True)\n",
        "test_df.fillna(0, inplace = True)\n",
        "\n",
        "print(train_df.isnull().sum())\n",
        "print('\\n')\n",
        "print(test_df.isnull().sum())"
      ],
      "execution_count": 26,
      "outputs": [
        {
          "output_type": "stream",
          "name": "stdout",
          "text": [
            "Store                        0\n",
            "DayOfWeek                    0\n",
            "Date                         0\n",
            "Sales                        0\n",
            "Customers                    0\n",
            "Open                         0\n",
            "Promo                        0\n",
            "StateHoliday                 0\n",
            "SchoolHoliday                0\n",
            "StoreType                    0\n",
            "Assortment                   0\n",
            "CompetitionDistance          0\n",
            "CompetitionOpenSinceMonth    0\n",
            "CompetitionOpenSinceYear     0\n",
            "Promo2                       0\n",
            "Promo2SinceWeek              0\n",
            "Promo2SinceYear              0\n",
            "PromoInterval                0\n",
            "dt_ref                       0\n",
            "year                         0\n",
            "month                        0\n",
            "day                          0\n",
            "week_of_year                 0\n",
            "period_month                 0\n",
            "dtype: int64\n",
            "\n",
            "\n",
            "Id                           0\n",
            "Store                        0\n",
            "DayOfWeek                    0\n",
            "Date                         0\n",
            "Open                         0\n",
            "Promo                        0\n",
            "StateHoliday                 0\n",
            "SchoolHoliday                0\n",
            "StoreType                    0\n",
            "Assortment                   0\n",
            "CompetitionDistance          0\n",
            "CompetitionOpenSinceMonth    0\n",
            "CompetitionOpenSinceYear     0\n",
            "Promo2                       0\n",
            "Promo2SinceWeek              0\n",
            "Promo2SinceYear              0\n",
            "PromoInterval                0\n",
            "dt_ref                       0\n",
            "year                         0\n",
            "month                        0\n",
            "day                          0\n",
            "week_of_year                 0\n",
            "period_month                 0\n",
            "CompetitionOpen              0\n",
            "Promo2Open                   0\n",
            "IsPromo2Month                0\n",
            "dtype: int64\n"
          ]
        }
      ]
    },
    {
      "cell_type": "code",
      "metadata": {
        "id": "cVpmmtli5Ycb"
      },
      "source": [
        "target = ['Sales']\n",
        "numeric_col = ['Customers', 'Open', 'Promo', 'Promo2', 'StateHoliday', 'SchoolHoliday', 'CompetitionDistance']\n",
        "categorical_col = ['DayOfWeek', 'period_month','month', 'year', 'StoreType', 'Assortment', 'week_of_year']\n",
        "\n",
        "def create_encode(df, col):\n",
        "    le = LabelEncoder()\n",
        "    a = le.fit_transform(train_df[col]).reshape(-1,1)\n",
        "    ohe = OneHotEncoder(sparse=False)\n",
        "    col_names = [col+ \"_\" + str(i) for i in le.classes_]\n",
        "    return (pd.DataFrame(ohe.fit_transform(a), columns = col_names))"
      ],
      "execution_count": 28,
      "outputs": []
    },
    {
      "cell_type": "code",
      "metadata": {
        "id": "qnyqPpK25Yhr"
      },
      "source": [
        "temp = train_df[numeric_col]\n",
        "\n",
        "for col in categorical_col:\n",
        "    temp_df = create_encode(train_df, col)\n",
        "    temp = pd.concat([temp, temp_df], axis=1)"
      ],
      "execution_count": 29,
      "outputs": []
    },
    {
      "cell_type": "code",
      "metadata": {
        "colab": {
          "base_uri": "https://localhost:8080/"
        },
        "id": "Nq6LRvXe5llC",
        "outputId": "ddd08786-9b9a-47cc-d9d9-4f7082dcf773"
      },
      "source": [
        "print('Shape of Data: ', temp.shape)\n",
        "print('Distinct Datatypes: ', temp.dtypes.unique())"
      ],
      "execution_count": 30,
      "outputs": [
        {
          "output_type": "stream",
          "name": "stdout",
          "text": [
            "Shape of Data:  (1017209, 119)\n",
            "Distinct Datatypes:  [dtype('int64') dtype('O') dtype('float64')]\n"
          ]
        }
      ]
    },
    {
      "cell_type": "code",
      "metadata": {
        "colab": {
          "base_uri": "https://localhost:8080/"
        },
        "id": "x8qyQzdi5lsL",
        "outputId": "a1a206fe-e7d3-4e39-a0e2-7bab338235bd"
      },
      "source": [
        "temp['StateHoliday'] = np.where(temp['StateHoliday']=='0', 0,1)\n",
        "temp.dtypes.unique()"
      ],
      "execution_count": 31,
      "outputs": [
        {
          "output_type": "execute_result",
          "data": {
            "text/plain": [
              "array([dtype('int64'), dtype('float64')], dtype=object)"
            ]
          },
          "metadata": {},
          "execution_count": 31
        }
      ]
    },
    {
      "cell_type": "code",
      "metadata": {
        "id": "S2cSVb3F5ly7"
      },
      "source": [
        "X_train, X_test, y_train, y_test = train_test_split(temp, train_df[target], test_size=0.2, random_state=1000)\n",
        "X_train, X_val, y_train, y_val = train_test_split(X_train, y_train, test_size=0.1, random_state=1000)"
      ],
      "execution_count": 32,
      "outputs": []
    },
    {
      "cell_type": "code",
      "metadata": {
        "colab": {
          "base_uri": "https://localhost:8080/"
        },
        "id": "tXV1sL_p5Ymb",
        "outputId": "10a2e171-c20a-41ac-f218-b1cc73474fcd"
      },
      "source": [
        "print('Shape of X_train: ', X_train.shape)\n",
        "print('Shape of X_val: ', X_val.shape)\n",
        "print('Shape of X_test: ', X_test.shape)\n",
        "print('Shape of y_train: ', y_train.shape)\n",
        "print('Shape of y_val: ', y_val.shape)\n",
        "print('Shape of y_test: ', y_test.shape)"
      ],
      "execution_count": 33,
      "outputs": [
        {
          "output_type": "stream",
          "name": "stdout",
          "text": [
            "Shape of X_train:  (732390, 119)\n",
            "Shape of X_val:  (81377, 119)\n",
            "Shape of X_test:  (203442, 119)\n",
            "Shape of y_train:  (732390, 1)\n",
            "Shape of y_val:  (81377, 1)\n",
            "Shape of y_test:  (203442, 1)\n"
          ]
        }
      ]
    },
    {
      "cell_type": "markdown",
      "metadata": {
        "id": "2WTMfLMY6fe-"
      },
      "source": [
        "# Build Model"
      ]
    },
    {
      "cell_type": "code",
      "metadata": {
        "colab": {
          "base_uri": "https://localhost:8080/"
        },
        "id": "xXcHY-r06flr",
        "outputId": "3d18bcd3-b771-4cd6-8610-80d2668021c4"
      },
      "source": [
        "model = Sequential()\n",
        "model.add(Dense(350, input_dim=119, activation='relu'))\n",
        "model.add(Dense(350, activation='relu'))\n",
        "model.add(Dense(350, activation='relu'))\n",
        "model.add(Dense(350, activation='relu'))\n",
        "model.add(Dense(1, activation='softmax'))\n",
        "model.summary()"
      ],
      "execution_count": 35,
      "outputs": [
        {
          "output_type": "stream",
          "name": "stdout",
          "text": [
            "Model: \"sequential\"\n",
            "_________________________________________________________________\n",
            "Layer (type)                 Output Shape              Param #   \n",
            "=================================================================\n",
            "dense (Dense)                (None, 350)               42000     \n",
            "_________________________________________________________________\n",
            "dense_1 (Dense)              (None, 350)               122850    \n",
            "_________________________________________________________________\n",
            "dense_2 (Dense)              (None, 350)               122850    \n",
            "_________________________________________________________________\n",
            "dense_3 (Dense)              (None, 350)               122850    \n",
            "_________________________________________________________________\n",
            "dense_4 (Dense)              (None, 1)                 351       \n",
            "=================================================================\n",
            "Total params: 410,901\n",
            "Trainable params: 410,901\n",
            "Non-trainable params: 0\n",
            "_________________________________________________________________\n"
          ]
        }
      ]
    },
    {
      "cell_type": "markdown",
      "metadata": {
        "id": "n-aKh6WU72lD"
      },
      "source": [
        "# Train the Model"
      ]
    },
    {
      "cell_type": "code",
      "metadata": {
        "colab": {
          "base_uri": "https://localhost:8080/"
        },
        "id": "GgHzt4JN6fsb",
        "outputId": "8c3eaaed-91be-4899-b210-194797a339fc"
      },
      "source": [
        "model.compile(optimizer='adam', loss='mean_absolute_error', metrics=['mean_absolute_error'])\n",
        "epochs = 10\n",
        "batch_size = 32\n",
        "\n",
        "history = model.fit(X_train, y_train, validation_split=0.2, epochs=epochs, batch_size=batch_size)"
      ],
      "execution_count": 40,
      "outputs": [
        {
          "output_type": "stream",
          "name": "stdout",
          "text": [
            "Epoch 1/10\n",
            "18310/18310 [==============================] - 75s 4ms/step - loss: 5770.4238 - mean_absolute_error: 5770.4238 - val_loss: 5774.5376 - val_mean_absolute_error: 5774.5376\n",
            "Epoch 2/10\n",
            "18310/18310 [==============================] - 71s 4ms/step - loss: 5770.4414 - mean_absolute_error: 5770.4414 - val_loss: 5774.5376 - val_mean_absolute_error: 5774.5376\n",
            "Epoch 3/10\n",
            "18310/18310 [==============================] - 73s 4ms/step - loss: 5770.4131 - mean_absolute_error: 5770.4131 - val_loss: 5774.5376 - val_mean_absolute_error: 5774.5376\n",
            "Epoch 4/10\n",
            "18310/18310 [==============================] - 73s 4ms/step - loss: 5770.4224 - mean_absolute_error: 5770.4224 - val_loss: 5774.5376 - val_mean_absolute_error: 5774.5376\n",
            "Epoch 5/10\n",
            "18310/18310 [==============================] - 73s 4ms/step - loss: 5770.4395 - mean_absolute_error: 5770.4395 - val_loss: 5774.5376 - val_mean_absolute_error: 5774.5376\n",
            "Epoch 6/10\n",
            "18310/18310 [==============================] - 73s 4ms/step - loss: 5770.4565 - mean_absolute_error: 5770.4565 - val_loss: 5774.5376 - val_mean_absolute_error: 5774.5376\n",
            "Epoch 7/10\n",
            "18310/18310 [==============================] - 70s 4ms/step - loss: 5770.4331 - mean_absolute_error: 5770.4331 - val_loss: 5774.5376 - val_mean_absolute_error: 5774.5376\n",
            "Epoch 8/10\n",
            "18310/18310 [==============================] - 70s 4ms/step - loss: 5770.4248 - mean_absolute_error: 5770.4248 - val_loss: 5774.5376 - val_mean_absolute_error: 5774.5376\n",
            "Epoch 9/10\n",
            "18310/18310 [==============================] - 70s 4ms/step - loss: 5770.4336 - mean_absolute_error: 5770.4336 - val_loss: 5774.5376 - val_mean_absolute_error: 5774.5376\n",
            "Epoch 10/10\n",
            "18310/18310 [==============================] - 72s 4ms/step - loss: 5770.4170 - mean_absolute_error: 5770.4170 - val_loss: 5774.5376 - val_mean_absolute_error: 5774.5376\n"
          ]
        }
      ]
    },
    {
      "cell_type": "markdown",
      "metadata": {
        "id": "KlMRLOTUiT0c"
      },
      "source": [
        "## Evaluate Model on Test Data"
      ]
    },
    {
      "cell_type": "code",
      "metadata": {
        "id": "BMuPE8Mm6f-B",
        "colab": {
          "base_uri": "https://localhost:8080/"
        },
        "outputId": "0c5602e5-e572-450e-eba1-234cd8b80716"
      },
      "source": [
        "test_loss, test_acc = model.evaluate(X_test, y_test)\n",
        "\n",
        "print(\"Test accuracy\", test_acc)\n",
        "print(\"Test loss\", test_loss)"
      ],
      "execution_count": 41,
      "outputs": [
        {
          "output_type": "stream",
          "name": "stdout",
          "text": [
            "6358/6358 [==============================] - 15s 2ms/step - loss: 5777.6841 - mean_absolute_error: 5777.6841\n",
            "Test accuracy 5777.68408203125\n",
            "Test loss 5777.68408203125\n"
          ]
        }
      ]
    },
    {
      "cell_type": "code",
      "metadata": {
        "colab": {
          "base_uri": "https://localhost:8080/"
        },
        "id": "olAbC3j_-lVi",
        "outputId": "e571cf11-4fd9-45ce-a114-ff7975c4d861"
      },
      "source": [
        "prediction = model.predict(X_test)\n",
        "print(prediction)"
      ],
      "execution_count": 42,
      "outputs": [
        {
          "output_type": "stream",
          "name": "stdout",
          "text": [
            "[[1.]\n",
            " [1.]\n",
            " [1.]\n",
            " ...\n",
            " [1.]\n",
            " [1.]\n",
            " [1.]]\n"
          ]
        }
      ]
    },
    {
      "cell_type": "markdown",
      "metadata": {
        "id": "-LF251Z2iT0d"
      },
      "source": [
        "## Plot the Model's Training and Validation Loss"
      ]
    },
    {
      "cell_type": "code",
      "metadata": {
        "id": "3NRQ3Akx5Yr9",
        "colab": {
          "base_uri": "https://localhost:8080/",
          "height": 293
        },
        "outputId": "8147c5ef-7cc5-4c1e-c65e-f73b23dfed8d"
      },
      "source": [
        "metric = \"mean_absolute_error\"\n",
        "plt.figure()\n",
        "plt.plot(history.history[metric])\n",
        "plt.plot(history.history[\"val_\" + metric])\n",
        "plt.title(\"model \" + metric)\n",
        "plt.ylabel(metric, fontsize=\"large\")\n",
        "plt.xlabel(\"epoch\", fontsize=\"large\")\n",
        "plt.legend([\"train\", \"val\"], loc=\"best\")\n",
        "plt.show()\n",
        "plt.close()"
      ],
      "execution_count": 43,
      "outputs": [
        {
          "output_type": "display_data",
          "data": {
            "image/png": "[encoded data removed]",
            "text/plain": [
              "<Figure size 432x288 with 1 Axes>"
            ]
          },
          "metadata": {
            "needs_background": "light"
          }
        }
      ]
    }
  ]
}